{
 "cells": [
  {
   "cell_type": "markdown",
   "metadata": {},
   "source": [
    "# General"
   ]
  },
  {
   "cell_type": "code",
   "execution_count": 1,
   "metadata": {
    "collapsed": false
   },
   "outputs": [
    {
     "name": "stderr",
     "output_type": "stream",
     "text": [
      "/mnt/store/judit/.virtualenvs/deep/lib/python3.4/site-packages/matplotlib/font_manager.py:273: UserWarning: Matplotlib is building the font cache using fc-list. This may take a moment.\n",
      "  warnings.warn('Matplotlib is building the font cache using fc-list. This may take a moment.')\n",
      "/mnt/store/judit/.virtualenvs/deep/lib/python3.4/site-packages/matplotlib/font_manager.py:273: UserWarning: Matplotlib is building the font cache using fc-list. This may take a moment.\n",
      "  warnings.warn('Matplotlib is building the font cache using fc-list. This may take a moment.')\n"
     ]
    }
   ],
   "source": [
    "import pandas as pd\n",
    "\n",
    "import matplotlib.pyplot as plt\n",
    "plt.style.use('ggplot')\n",
    "plt.rcParams['figure.figsize'] = (25, 13)\n",
    "plt.rcParams['font.family'] = 'sans-serif'\n",
    "plt.rcParams['font.size'] = 20\n",
    "%matplotlib inline"
   ]
  },
  {
   "cell_type": "markdown",
   "metadata": {},
   "source": [
    "## A few utility functions"
   ]
  },
  {
   "cell_type": "code",
   "execution_count": 2,
   "metadata": {
    "collapsed": true
   },
   "outputs": [],
   "source": [
    "from functools import reduce\n",
    "\n",
    "def filter_similar(df, row, columns):\n",
    "    filt = reduce(lambda x, y: x & (df[y] == row[y]), columns, True)\n",
    "    return df[filt]"
   ]
  },
  {
   "cell_type": "markdown",
   "metadata": {},
   "source": [
    "## Loading the tables"
   ]
  },
  {
   "cell_type": "code",
   "execution_count": 3,
   "metadata": {
    "collapsed": true
   },
   "outputs": [],
   "source": [
    "ffnn = pd.read_table('results/ffnn_results.tsv')\n",
    "rnn = pd.read_table('results/rnn_results.tsv')"
   ]
  },
  {
   "cell_type": "markdown",
   "metadata": {},
   "source": [
    "# Experiment 1: POS classification\n",
    "\n",
    "Filter result tables"
   ]
  },
  {
   "cell_type": "code",
   "execution_count": 4,
   "metadata": {
    "collapsed": false
   },
   "outputs": [],
   "source": [
    "exp1_ffnn = ffnn[ffnn['feat.tag_filter'] == \"('NOUN', 'VERB')\"].copy()\n",
    "exp1_rnn = rnn[rnn['featurizer.label_filter'] == \"('NOUN', 'VERB')\"].copy()"
   ]
  },
  {
   "cell_type": "code",
   "execution_count": 5,
   "metadata": {
    "collapsed": true
   },
   "outputs": [],
   "source": [
    "feat_params = [\n",
    "    'feat.N', 'feat.last_char', 'feat.sample_per_class',\n",
    "]\n",
    "model_params = [\n",
    "    'model.batch_size', 'model.layers', 'model.nb_epoch',\n",
    "]\n",
    "result_cols = [\n",
    "    'result.test_acc'\n",
    "]\n",
    "display_filter = feat_params + model_params + result_cols"
   ]
  },
  {
   "cell_type": "code",
   "execution_count": 6,
   "metadata": {
    "collapsed": false
   },
   "outputs": [],
   "source": [
    "ffnn[display_filter].to_csv('results/ffnn_readable.csv', sep='\\t', index=True)"
   ]
  },
  {
   "cell_type": "markdown",
   "metadata": {},
   "source": [
    "## Best experiment"
   ]
  },
  {
   "cell_type": "code",
   "execution_count": 16,
   "metadata": {
    "collapsed": false
   },
   "outputs": [],
   "source": [
    "best = exp1_ffnn.loc[exp1_ffnn['result.test_acc'].idxmax()] #[display_filter]\n",
    "#best.to_frame().sort_index()"
   ]
  },
  {
   "cell_type": "code",
   "execution_count": 22,
   "metadata": {
    "collapsed": false
   },
   "outputs": [
    {
     "data": {
      "text/html": [
       "<div>\n",
       "<table border=\"1\" class=\"dataframe\">\n",
       "  <thead>\n",
       "    <tr style=\"text-align: right;\">\n",
       "      <th></th>\n",
       "      <th>292</th>\n",
       "    </tr>\n",
       "  </thead>\n",
       "  <tbody>\n",
       "    <tr>\n",
       "      <th>feat.N</th>\n",
       "      <td>2</td>\n",
       "    </tr>\n",
       "    <tr>\n",
       "      <th>feat.data_path</th>\n",
       "      <td>/mnt/store/hlt/Language/Hungarian/Crawl/Web2/a...</td>\n",
       "    </tr>\n",
       "    <tr>\n",
       "      <th>feat.early_stopping</th>\n",
       "      <td>NaN</td>\n",
       "    </tr>\n",
       "    <tr>\n",
       "      <th>feat.encoding</th>\n",
       "      <td>latin2</td>\n",
       "    </tr>\n",
       "    <tr>\n",
       "      <th>feat.grep_filter</th>\n",
       "      <td>NaN</td>\n",
       "    </tr>\n",
       "    <tr>\n",
       "      <th>feat.include_smaller_ngrams</th>\n",
       "      <td>True</td>\n",
       "    </tr>\n",
       "    <tr>\n",
       "      <th>feat.last_char</th>\n",
       "      <td>6</td>\n",
       "    </tr>\n",
       "    <tr>\n",
       "      <th>feat.max_lines</th>\n",
       "      <td>1e+07</td>\n",
       "    </tr>\n",
       "    <tr>\n",
       "      <th>feat.sample_per_class</th>\n",
       "      <td>30000</td>\n",
       "    </tr>\n",
       "    <tr>\n",
       "      <th>feat.shuffled</th>\n",
       "      <td>NaN</td>\n",
       "    </tr>\n",
       "    <tr>\n",
       "      <th>feat.tag_filter</th>\n",
       "      <td>('NOUN', 'VERB')</td>\n",
       "    </tr>\n",
       "    <tr>\n",
       "      <th>feat.tag_limit_in_cluster</th>\n",
       "      <td>NaN</td>\n",
       "    </tr>\n",
       "    <tr>\n",
       "      <th>feat.uniq_lines</th>\n",
       "      <td>True</td>\n",
       "    </tr>\n",
       "    <tr>\n",
       "      <th>feat.use_padding</th>\n",
       "      <td>True</td>\n",
       "    </tr>\n",
       "    <tr>\n",
       "      <th>global.comment</th>\n",
       "      <td>NaN</td>\n",
       "    </tr>\n",
       "    <tr>\n",
       "      <th>global.nolog</th>\n",
       "      <td>False</td>\n",
       "    </tr>\n",
       "    <tr>\n",
       "      <th>global.train_test_split</th>\n",
       "      <td>0.9</td>\n",
       "    </tr>\n",
       "    <tr>\n",
       "      <th>model.activations</th>\n",
       "      <td>('sigmoid', 'sigmoid', 'sigmoid')</td>\n",
       "    </tr>\n",
       "    <tr>\n",
       "      <th>model.architecture</th>\n",
       "      <td>FFNN</td>\n",
       "    </tr>\n",
       "    <tr>\n",
       "      <th>model.batch_size</th>\n",
       "      <td>500</td>\n",
       "    </tr>\n",
       "    <tr>\n",
       "      <th>model.early_stopping</th>\n",
       "      <td>True</td>\n",
       "    </tr>\n",
       "    <tr>\n",
       "      <th>model.input_dim</th>\n",
       "      <td>7101</td>\n",
       "    </tr>\n",
       "    <tr>\n",
       "      <th>model.layers</th>\n",
       "      <td>(20, 10)</td>\n",
       "    </tr>\n",
       "    <tr>\n",
       "      <th>model.loss</th>\n",
       "      <td>binary_crossentropy</td>\n",
       "    </tr>\n",
       "    <tr>\n",
       "      <th>model.metrics</th>\n",
       "      <td>['accuracy']</td>\n",
       "    </tr>\n",
       "    <tr>\n",
       "      <th>model.nb_epoch</th>\n",
       "      <td>300</td>\n",
       "    </tr>\n",
       "    <tr>\n",
       "      <th>model.optimizer</th>\n",
       "      <td>rmsprop</td>\n",
       "    </tr>\n",
       "    <tr>\n",
       "      <th>model.output_dim</th>\n",
       "      <td>2</td>\n",
       "    </tr>\n",
       "    <tr>\n",
       "      <th>result.class_no</th>\n",
       "      <td>2</td>\n",
       "    </tr>\n",
       "    <tr>\n",
       "      <th>result.exception</th>\n",
       "      <td>NaN</td>\n",
       "    </tr>\n",
       "    <tr>\n",
       "      <th>result.feature_count</th>\n",
       "      <td>7101</td>\n",
       "    </tr>\n",
       "    <tr>\n",
       "      <th>result.running_time</th>\n",
       "      <td>0 days 00:00:50.874913</td>\n",
       "    </tr>\n",
       "    <tr>\n",
       "      <th>result.success</th>\n",
       "      <td>True</td>\n",
       "    </tr>\n",
       "    <tr>\n",
       "      <th>result.test_acc</th>\n",
       "      <td>0.9545</td>\n",
       "    </tr>\n",
       "    <tr>\n",
       "      <th>result.test_loss</th>\n",
       "      <td>0.141139</td>\n",
       "    </tr>\n",
       "    <tr>\n",
       "      <th>result.test_sample_count</th>\n",
       "      <td>6000</td>\n",
       "    </tr>\n",
       "    <tr>\n",
       "      <th>result.timestamp</th>\n",
       "      <td>2016-12-18 19:09:00.536572</td>\n",
       "    </tr>\n",
       "    <tr>\n",
       "      <th>result.train_acc</th>\n",
       "      <td>0.961454</td>\n",
       "    </tr>\n",
       "    <tr>\n",
       "      <th>result.train_loss</th>\n",
       "      <td>0.116321</td>\n",
       "    </tr>\n",
       "    <tr>\n",
       "      <th>result.train_sample_count</th>\n",
       "      <td>54000</td>\n",
       "    </tr>\n",
       "  </tbody>\n",
       "</table>\n",
       "</div>"
      ],
      "text/plain": [
       "                                                                           292\n",
       "feat.N                                                                       2\n",
       "feat.data_path               /mnt/store/hlt/Language/Hungarian/Crawl/Web2/a...\n",
       "feat.early_stopping                                                        NaN\n",
       "feat.encoding                                                           latin2\n",
       "feat.grep_filter                                                           NaN\n",
       "feat.include_smaller_ngrams                                               True\n",
       "feat.last_char                                                               6\n",
       "feat.max_lines                                                           1e+07\n",
       "feat.sample_per_class                                                    30000\n",
       "feat.shuffled                                                              NaN\n",
       "feat.tag_filter                                               ('NOUN', 'VERB')\n",
       "feat.tag_limit_in_cluster                                                  NaN\n",
       "feat.uniq_lines                                                           True\n",
       "feat.use_padding                                                          True\n",
       "global.comment                                                             NaN\n",
       "global.nolog                                                             False\n",
       "global.train_test_split                                                    0.9\n",
       "model.activations                            ('sigmoid', 'sigmoid', 'sigmoid')\n",
       "model.architecture                                                        FFNN\n",
       "model.batch_size                                                           500\n",
       "model.early_stopping                                                      True\n",
       "model.input_dim                                                           7101\n",
       "model.layers                                                          (20, 10)\n",
       "model.loss                                                 binary_crossentropy\n",
       "model.metrics                                                     ['accuracy']\n",
       "model.nb_epoch                                                             300\n",
       "model.optimizer                                                        rmsprop\n",
       "model.output_dim                                                             2\n",
       "result.class_no                                                              2\n",
       "result.exception                                                           NaN\n",
       "result.feature_count                                                      7101\n",
       "result.running_time                                     0 days 00:00:50.874913\n",
       "result.success                                                            True\n",
       "result.test_acc                                                         0.9545\n",
       "result.test_loss                                                      0.141139\n",
       "result.test_sample_count                                                  6000\n",
       "result.timestamp                                    2016-12-18 19:09:00.536572\n",
       "result.train_acc                                                      0.961454\n",
       "result.train_loss                                                     0.116321\n",
       "result.train_sample_count                                                54000"
      ]
     },
     "execution_count": 22,
     "metadata": {},
     "output_type": "execute_result"
    }
   ],
   "source": [
    "b = exp1_ffnn[exp1_ffnn['feat.N'] == 2]\n",
    "b.loc[b['result.test_acc'].idxmax()].to_frame().sort_index()"
   ]
  },
  {
   "cell_type": "markdown",
   "metadata": {},
   "source": [
    "Find experiments which only differ in `last_char`"
   ]
  },
  {
   "cell_type": "code",
   "execution_count": 8,
   "metadata": {
    "collapsed": false
   },
   "outputs": [
    {
     "data": {
      "text/html": [
       "<div>\n",
       "<table border=\"1\" class=\"dataframe\">\n",
       "  <thead>\n",
       "    <tr style=\"text-align: right;\">\n",
       "      <th></th>\n",
       "      <th>feat.N</th>\n",
       "      <th>feat.last_char</th>\n",
       "      <th>feat.sample_per_class</th>\n",
       "      <th>model.batch_size</th>\n",
       "      <th>model.layers</th>\n",
       "      <th>model.nb_epoch</th>\n",
       "      <th>result.test_acc</th>\n",
       "    </tr>\n",
       "  </thead>\n",
       "  <tbody>\n",
       "    <tr>\n",
       "      <th>281</th>\n",
       "      <td>3.0</td>\n",
       "      <td>1.0</td>\n",
       "      <td>30000.0</td>\n",
       "      <td>500.0</td>\n",
       "      <td>(40, 40)</td>\n",
       "      <td>300.0</td>\n",
       "      <td>0.730000</td>\n",
       "    </tr>\n",
       "    <tr>\n",
       "      <th>280</th>\n",
       "      <td>3.0</td>\n",
       "      <td>2.0</td>\n",
       "      <td>30000.0</td>\n",
       "      <td>500.0</td>\n",
       "      <td>(40, 40)</td>\n",
       "      <td>300.0</td>\n",
       "      <td>0.850833</td>\n",
       "    </tr>\n",
       "    <tr>\n",
       "      <th>279</th>\n",
       "      <td>3.0</td>\n",
       "      <td>3.0</td>\n",
       "      <td>30000.0</td>\n",
       "      <td>500.0</td>\n",
       "      <td>(40, 40)</td>\n",
       "      <td>300.0</td>\n",
       "      <td>0.924167</td>\n",
       "    </tr>\n",
       "    <tr>\n",
       "      <th>278</th>\n",
       "      <td>3.0</td>\n",
       "      <td>4.0</td>\n",
       "      <td>30000.0</td>\n",
       "      <td>500.0</td>\n",
       "      <td>(40, 40)</td>\n",
       "      <td>300.0</td>\n",
       "      <td>0.947083</td>\n",
       "    </tr>\n",
       "    <tr>\n",
       "      <th>253</th>\n",
       "      <td>3.0</td>\n",
       "      <td>5.0</td>\n",
       "      <td>30000.0</td>\n",
       "      <td>500.0</td>\n",
       "      <td>(40, 40)</td>\n",
       "      <td>300.0</td>\n",
       "      <td>0.957667</td>\n",
       "    </tr>\n",
       "    <tr>\n",
       "      <th>8</th>\n",
       "      <td>3.0</td>\n",
       "      <td>5.0</td>\n",
       "      <td>30000.0</td>\n",
       "      <td>500.0</td>\n",
       "      <td>(40, 40)</td>\n",
       "      <td>300.0</td>\n",
       "      <td>0.959750</td>\n",
       "    </tr>\n",
       "    <tr>\n",
       "      <th>10</th>\n",
       "      <td>3.0</td>\n",
       "      <td>7.0</td>\n",
       "      <td>30000.0</td>\n",
       "      <td>500.0</td>\n",
       "      <td>(40, 40)</td>\n",
       "      <td>300.0</td>\n",
       "      <td>0.963667</td>\n",
       "    </tr>\n",
       "    <tr>\n",
       "      <th>9</th>\n",
       "      <td>3.0</td>\n",
       "      <td>6.0</td>\n",
       "      <td>30000.0</td>\n",
       "      <td>500.0</td>\n",
       "      <td>(40, 40)</td>\n",
       "      <td>300.0</td>\n",
       "      <td>0.964000</td>\n",
       "    </tr>\n",
       "    <tr>\n",
       "      <th>11</th>\n",
       "      <td>3.0</td>\n",
       "      <td>8.0</td>\n",
       "      <td>30000.0</td>\n",
       "      <td>500.0</td>\n",
       "      <td>(40, 40)</td>\n",
       "      <td>300.0</td>\n",
       "      <td>0.965333</td>\n",
       "    </tr>\n",
       "    <tr>\n",
       "      <th>277</th>\n",
       "      <td>3.0</td>\n",
       "      <td>9.0</td>\n",
       "      <td>30000.0</td>\n",
       "      <td>500.0</td>\n",
       "      <td>(40, 40)</td>\n",
       "      <td>300.0</td>\n",
       "      <td>0.967000</td>\n",
       "    </tr>\n",
       "    <tr>\n",
       "      <th>276</th>\n",
       "      <td>3.0</td>\n",
       "      <td>10.0</td>\n",
       "      <td>30000.0</td>\n",
       "      <td>500.0</td>\n",
       "      <td>(40, 40)</td>\n",
       "      <td>300.0</td>\n",
       "      <td>0.967333</td>\n",
       "    </tr>\n",
       "  </tbody>\n",
       "</table>\n",
       "</div>"
      ],
      "text/plain": [
       "     feat.N  feat.last_char  feat.sample_per_class  model.batch_size  \\\n",
       "281     3.0             1.0                30000.0             500.0   \n",
       "280     3.0             2.0                30000.0             500.0   \n",
       "279     3.0             3.0                30000.0             500.0   \n",
       "278     3.0             4.0                30000.0             500.0   \n",
       "253     3.0             5.0                30000.0             500.0   \n",
       "8       3.0             5.0                30000.0             500.0   \n",
       "10      3.0             7.0                30000.0             500.0   \n",
       "9       3.0             6.0                30000.0             500.0   \n",
       "11      3.0             8.0                30000.0             500.0   \n",
       "277     3.0             9.0                30000.0             500.0   \n",
       "276     3.0            10.0                30000.0             500.0   \n",
       "\n",
       "    model.layers  model.nb_epoch  result.test_acc  \n",
       "281     (40, 40)           300.0         0.730000  \n",
       "280     (40, 40)           300.0         0.850833  \n",
       "279     (40, 40)           300.0         0.924167  \n",
       "278     (40, 40)           300.0         0.947083  \n",
       "253     (40, 40)           300.0         0.957667  \n",
       "8       (40, 40)           300.0         0.959750  \n",
       "10      (40, 40)           300.0         0.963667  \n",
       "9       (40, 40)           300.0         0.964000  \n",
       "11      (40, 40)           300.0         0.965333  \n",
       "277     (40, 40)           300.0         0.967000  \n",
       "276     (40, 40)           300.0         0.967333  "
      ]
     },
     "execution_count": 8,
     "metadata": {},
     "output_type": "execute_result"
    }
   ],
   "source": [
    "lc_diff = filter_similar(exp1_ffnn, best, ['feat.N', 'feat.sample_per_class', 'model.batch_size', 'model.layers', 'model.nb_epoch'])\n",
    "lc_diff[display_filter].sort_values('result.test_acc')"
   ]
  },
  {
   "cell_type": "code",
   "execution_count": 9,
   "metadata": {
    "collapsed": false
   },
   "outputs": [
    {
     "data": {
      "text/html": [
       "<div>\n",
       "<table border=\"1\" class=\"dataframe\">\n",
       "  <thead>\n",
       "    <tr style=\"text-align: right;\">\n",
       "      <th></th>\n",
       "      <th>result.test_acc</th>\n",
       "    </tr>\n",
       "    <tr>\n",
       "      <th>feat.last_char</th>\n",
       "      <th></th>\n",
       "    </tr>\n",
       "  </thead>\n",
       "  <tbody>\n",
       "    <tr>\n",
       "      <th>1.0</th>\n",
       "      <td>0.730000</td>\n",
       "    </tr>\n",
       "    <tr>\n",
       "      <th>2.0</th>\n",
       "      <td>0.850833</td>\n",
       "    </tr>\n",
       "    <tr>\n",
       "      <th>3.0</th>\n",
       "      <td>0.924167</td>\n",
       "    </tr>\n",
       "    <tr>\n",
       "      <th>4.0</th>\n",
       "      <td>0.947083</td>\n",
       "    </tr>\n",
       "    <tr>\n",
       "      <th>5.0</th>\n",
       "      <td>0.958708</td>\n",
       "    </tr>\n",
       "    <tr>\n",
       "      <th>6.0</th>\n",
       "      <td>0.964000</td>\n",
       "    </tr>\n",
       "    <tr>\n",
       "      <th>7.0</th>\n",
       "      <td>0.963667</td>\n",
       "    </tr>\n",
       "    <tr>\n",
       "      <th>8.0</th>\n",
       "      <td>0.965333</td>\n",
       "    </tr>\n",
       "    <tr>\n",
       "      <th>9.0</th>\n",
       "      <td>0.967000</td>\n",
       "    </tr>\n",
       "    <tr>\n",
       "      <th>10.0</th>\n",
       "      <td>0.967333</td>\n",
       "    </tr>\n",
       "  </tbody>\n",
       "</table>\n",
       "</div>"
      ],
      "text/plain": [
       "                result.test_acc\n",
       "feat.last_char                 \n",
       "1.0                    0.730000\n",
       "2.0                    0.850833\n",
       "3.0                    0.924167\n",
       "4.0                    0.947083\n",
       "5.0                    0.958708\n",
       "6.0                    0.964000\n",
       "7.0                    0.963667\n",
       "8.0                    0.965333\n",
       "9.0                    0.967000\n",
       "10.0                   0.967333"
      ]
     },
     "execution_count": 9,
     "metadata": {},
     "output_type": "execute_result"
    }
   ],
   "source": [
    "lc_diff.groupby('feat.last_char').mean()['result.test_acc'].to_frame()"
   ]
  },
  {
   "cell_type": "code",
   "execution_count": 10,
   "metadata": {
    "collapsed": false
   },
   "outputs": [
    {
     "data": {
      "text/plain": [
       "<matplotlib.figure.Figure at 0x7fb5ac070ba8>"
      ]
     },
     "metadata": {},
     "output_type": "display_data"
    },
    {
     "data": {
      "image/png": "[encoded data removed]",
      "text/plain": [
       "<matplotlib.figure.Figure at 0x7fb5ac09da58>"
      ]
     },
     "metadata": {},
     "output_type": "display_data"
    }
   ],
   "source": [
    "fig = plt.figure()\n",
    "lc_diff.groupby('feat.last_char').mean().plot(y='result.test_acc', kind='bar', ylim=(0.5, 1),\n",
    "                                             title='Best configuration wrt the last_char parameter')\n",
    "_ = plt.xlabel('Number characters used from the word')\n",
    "_ = plt.ylabel('Test accuracy')"
   ]
  },
  {
   "cell_type": "markdown",
   "metadata": {
    "collapsed": true
   },
   "source": [
    "## Best (or almost best) configuration with varying N\n",
    "\n",
    "Most experiments were run with `last_char` set to 6 to decrease the size of the matrices while keeping accuracy high."
   ]
  },
  {
   "cell_type": "code",
   "execution_count": 11,
   "metadata": {
    "collapsed": false
   },
   "outputs": [
    {
     "data": {
      "text/html": [
       "<div>\n",
       "<table border=\"1\" class=\"dataframe\">\n",
       "  <thead>\n",
       "    <tr style=\"text-align: right;\">\n",
       "      <th></th>\n",
       "      <th>feat.N</th>\n",
       "      <th>feat.last_char</th>\n",
       "      <th>feat.sample_per_class</th>\n",
       "      <th>model.batch_size</th>\n",
       "      <th>model.layers</th>\n",
       "      <th>model.nb_epoch</th>\n",
       "      <th>result.test_acc</th>\n",
       "    </tr>\n",
       "  </thead>\n",
       "  <tbody>\n",
       "    <tr>\n",
       "      <th>1</th>\n",
       "      <td>1.0</td>\n",
       "      <td>6.0</td>\n",
       "      <td>30000.0</td>\n",
       "      <td>500.0</td>\n",
       "      <td>(40, 40)</td>\n",
       "      <td>300.0</td>\n",
       "      <td>0.88875</td>\n",
       "    </tr>\n",
       "    <tr>\n",
       "      <th>315</th>\n",
       "      <td>2.0</td>\n",
       "      <td>6.0</td>\n",
       "      <td>30000.0</td>\n",
       "      <td>500.0</td>\n",
       "      <td>(40, 40)</td>\n",
       "      <td>300.0</td>\n",
       "      <td>0.94525</td>\n",
       "    </tr>\n",
       "    <tr>\n",
       "      <th>5</th>\n",
       "      <td>2.0</td>\n",
       "      <td>6.0</td>\n",
       "      <td>30000.0</td>\n",
       "      <td>500.0</td>\n",
       "      <td>(40, 40)</td>\n",
       "      <td>300.0</td>\n",
       "      <td>0.94725</td>\n",
       "    </tr>\n",
       "    <tr>\n",
       "      <th>9</th>\n",
       "      <td>3.0</td>\n",
       "      <td>6.0</td>\n",
       "      <td>30000.0</td>\n",
       "      <td>500.0</td>\n",
       "      <td>(40, 40)</td>\n",
       "      <td>300.0</td>\n",
       "      <td>0.96400</td>\n",
       "    </tr>\n",
       "  </tbody>\n",
       "</table>\n",
       "</div>"
      ],
      "text/plain": [
       "     feat.N  feat.last_char  feat.sample_per_class  model.batch_size  \\\n",
       "1       1.0             6.0                30000.0             500.0   \n",
       "315     2.0             6.0                30000.0             500.0   \n",
       "5       2.0             6.0                30000.0             500.0   \n",
       "9       3.0             6.0                30000.0             500.0   \n",
       "\n",
       "    model.layers  model.nb_epoch  result.test_acc  \n",
       "1       (40, 40)           300.0          0.88875  \n",
       "315     (40, 40)           300.0          0.94525  \n",
       "5       (40, 40)           300.0          0.94725  \n",
       "9       (40, 40)           300.0          0.96400  "
      ]
     },
     "execution_count": 11,
     "metadata": {},
     "output_type": "execute_result"
    }
   ],
   "source": [
    "N_diff = filter_similar(exp1_ffnn, exp1_ffnn.loc[9], ['feat.last_char', 'feat.sample_per_class', 'model.batch_size', 'model.layers', 'model.nb_epoch'])\n",
    "N_diff[display_filter].sort_values('result.test_acc')"
   ]
  },
  {
   "cell_type": "markdown",
   "metadata": {
    "collapsed": true
   },
   "source": [
    "## Number of neurons in the hidden layers\n",
    "\n",
    "Both hidden layers are tested in `range(10, 101, 10)` and the best and worst of the 100 combinations are:"
   ]
  },
  {
   "cell_type": "code",
   "execution_count": 12,
   "metadata": {
    "collapsed": false
   },
   "outputs": [
    {
     "data": {
      "text/html": [
       "<div>\n",
       "<table border=\"1\" class=\"dataframe\">\n",
       "  <thead>\n",
       "    <tr style=\"text-align: right;\">\n",
       "      <th></th>\n",
       "      <th>feat.N</th>\n",
       "      <th>feat.last_char</th>\n",
       "      <th>feat.sample_per_class</th>\n",
       "      <th>model.batch_size</th>\n",
       "      <th>model.layers</th>\n",
       "      <th>model.nb_epoch</th>\n",
       "      <th>result.test_acc</th>\n",
       "    </tr>\n",
       "  </thead>\n",
       "  <tbody>\n",
       "    <tr>\n",
       "      <th>292</th>\n",
       "      <td>2.0</td>\n",
       "      <td>6.0</td>\n",
       "      <td>30000.0</td>\n",
       "      <td>500.0</td>\n",
       "      <td>(20, 10)</td>\n",
       "      <td>300.0</td>\n",
       "      <td>0.954500</td>\n",
       "    </tr>\n",
       "    <tr>\n",
       "      <th>318</th>\n",
       "      <td>2.0</td>\n",
       "      <td>6.0</td>\n",
       "      <td>30000.0</td>\n",
       "      <td>500.0</td>\n",
       "      <td>(40, 70)</td>\n",
       "      <td>300.0</td>\n",
       "      <td>0.952250</td>\n",
       "    </tr>\n",
       "    <tr>\n",
       "      <th>332</th>\n",
       "      <td>2.0</td>\n",
       "      <td>6.0</td>\n",
       "      <td>30000.0</td>\n",
       "      <td>500.0</td>\n",
       "      <td>(60, 10)</td>\n",
       "      <td>300.0</td>\n",
       "      <td>0.951917</td>\n",
       "    </tr>\n",
       "    <tr>\n",
       "      <th>366</th>\n",
       "      <td>2.0</td>\n",
       "      <td>6.0</td>\n",
       "      <td>30000.0</td>\n",
       "      <td>500.0</td>\n",
       "      <td>(90, 50)</td>\n",
       "      <td>300.0</td>\n",
       "      <td>0.951833</td>\n",
       "    </tr>\n",
       "    <tr>\n",
       "      <th>322</th>\n",
       "      <td>2.0</td>\n",
       "      <td>6.0</td>\n",
       "      <td>30000.0</td>\n",
       "      <td>500.0</td>\n",
       "      <td>(50, 10)</td>\n",
       "      <td>300.0</td>\n",
       "      <td>0.951500</td>\n",
       "    </tr>\n",
       "  </tbody>\n",
       "</table>\n",
       "</div>"
      ],
      "text/plain": [
       "     feat.N  feat.last_char  feat.sample_per_class  model.batch_size  \\\n",
       "292     2.0             6.0                30000.0             500.0   \n",
       "318     2.0             6.0                30000.0             500.0   \n",
       "332     2.0             6.0                30000.0             500.0   \n",
       "366     2.0             6.0                30000.0             500.0   \n",
       "322     2.0             6.0                30000.0             500.0   \n",
       "\n",
       "    model.layers  model.nb_epoch  result.test_acc  \n",
       "292     (20, 10)           300.0         0.954500  \n",
       "318     (40, 70)           300.0         0.952250  \n",
       "332     (60, 10)           300.0         0.951917  \n",
       "366     (90, 50)           300.0         0.951833  \n",
       "322     (50, 10)           300.0         0.951500  "
      ]
     },
     "execution_count": 12,
     "metadata": {},
     "output_type": "execute_result"
    }
   ],
   "source": [
    "sim = filter_similar(exp1_ffnn, exp1_ffnn.loc[5], ['feat.last_char', 'feat.sample_per_class',\n",
    "                                                   'feat.N', 'model.batch_size', 'model.nb_epoch'])\n",
    "sim.sort_values('result.test_acc', ascending=False)[display_filter].head()"
   ]
  },
  {
   "cell_type": "code",
   "execution_count": 13,
   "metadata": {
    "collapsed": false
   },
   "outputs": [
    {
     "data": {
      "text/html": [
       "<div>\n",
       "<table border=\"1\" class=\"dataframe\">\n",
       "  <thead>\n",
       "    <tr style=\"text-align: right;\">\n",
       "      <th></th>\n",
       "      <th>feat.N</th>\n",
       "      <th>feat.last_char</th>\n",
       "      <th>feat.sample_per_class</th>\n",
       "      <th>model.batch_size</th>\n",
       "      <th>model.layers</th>\n",
       "      <th>model.nb_epoch</th>\n",
       "      <th>result.test_acc</th>\n",
       "    </tr>\n",
       "  </thead>\n",
       "  <tbody>\n",
       "    <tr>\n",
       "      <th>305</th>\n",
       "      <td>2.0</td>\n",
       "      <td>6.0</td>\n",
       "      <td>30000.0</td>\n",
       "      <td>500.0</td>\n",
       "      <td>(30, 40)</td>\n",
       "      <td>300.0</td>\n",
       "      <td>0.939417</td>\n",
       "    </tr>\n",
       "    <tr>\n",
       "      <th>378</th>\n",
       "      <td>2.0</td>\n",
       "      <td>6.0</td>\n",
       "      <td>30000.0</td>\n",
       "      <td>500.0</td>\n",
       "      <td>(100, 70)</td>\n",
       "      <td>300.0</td>\n",
       "      <td>0.941917</td>\n",
       "    </tr>\n",
       "    <tr>\n",
       "      <th>284</th>\n",
       "      <td>2.0</td>\n",
       "      <td>6.0</td>\n",
       "      <td>30000.0</td>\n",
       "      <td>500.0</td>\n",
       "      <td>(10, 30)</td>\n",
       "      <td>300.0</td>\n",
       "      <td>0.942333</td>\n",
       "    </tr>\n",
       "    <tr>\n",
       "      <th>324</th>\n",
       "      <td>2.0</td>\n",
       "      <td>6.0</td>\n",
       "      <td>30000.0</td>\n",
       "      <td>500.0</td>\n",
       "      <td>(50, 30)</td>\n",
       "      <td>300.0</td>\n",
       "      <td>0.942667</td>\n",
       "    </tr>\n",
       "    <tr>\n",
       "      <th>288</th>\n",
       "      <td>2.0</td>\n",
       "      <td>6.0</td>\n",
       "      <td>30000.0</td>\n",
       "      <td>500.0</td>\n",
       "      <td>(10, 70)</td>\n",
       "      <td>300.0</td>\n",
       "      <td>0.942750</td>\n",
       "    </tr>\n",
       "  </tbody>\n",
       "</table>\n",
       "</div>"
      ],
      "text/plain": [
       "     feat.N  feat.last_char  feat.sample_per_class  model.batch_size  \\\n",
       "305     2.0             6.0                30000.0             500.0   \n",
       "378     2.0             6.0                30000.0             500.0   \n",
       "284     2.0             6.0                30000.0             500.0   \n",
       "324     2.0             6.0                30000.0             500.0   \n",
       "288     2.0             6.0                30000.0             500.0   \n",
       "\n",
       "    model.layers  model.nb_epoch  result.test_acc  \n",
       "305     (30, 40)           300.0         0.939417  \n",
       "378    (100, 70)           300.0         0.941917  \n",
       "284     (10, 30)           300.0         0.942333  \n",
       "324     (50, 30)           300.0         0.942667  \n",
       "288     (10, 70)           300.0         0.942750  "
      ]
     },
     "execution_count": 13,
     "metadata": {},
     "output_type": "execute_result"
    }
   ],
   "source": [
    "sim.sort_values('result.test_acc')[display_filter].head()"
   ]
  },
  {
   "cell_type": "markdown",
   "metadata": {
    "collapsed": true
   },
   "source": [
    "# RNN"
   ]
  },
  {
   "cell_type": "code",
   "execution_count": 14,
   "metadata": {
    "collapsed": true
   },
   "outputs": [],
   "source": [
    "feat_params = [\n",
    "    'featurizer.max_len', 'featurizer.max_sample_per_class',\n",
    "]\n",
    "model_params = [\n",
    "    'model.batch_size', 'model.cells', 'model.lr', 'model.nb_epoch', 'model.rnn_type'\n",
    "]\n",
    "result_cols = [\n",
    "    'result.test_acc'\n",
    "]\n",
    "display_filter = feat_params + model_params + result_cols"
   ]
  },
  {
   "cell_type": "markdown",
   "metadata": {},
   "source": [
    "### Saving human readable columns to a separate file"
   ]
  },
  {
   "cell_type": "code",
   "execution_count": 15,
   "metadata": {
    "collapsed": false
   },
   "outputs": [],
   "source": [
    "rnn[display_filter].to_csv('results/rnn_readable.tsv', sep='\\t', index=True)"
   ]
  },
  {
   "cell_type": "markdown",
   "metadata": {},
   "source": [
    "## The best"
   ]
  },
  {
   "cell_type": "code",
   "execution_count": 16,
   "metadata": {
    "collapsed": false
   },
   "outputs": [
    {
     "data": {
      "text/html": [
       "<div>\n",
       "<table border=\"1\" class=\"dataframe\">\n",
       "  <thead>\n",
       "    <tr style=\"text-align: right;\">\n",
       "      <th></th>\n",
       "      <th>2178</th>\n",
       "    </tr>\n",
       "  </thead>\n",
       "  <tbody>\n",
       "    <tr>\n",
       "      <th>featurizer.max_len</th>\n",
       "      <td>9</td>\n",
       "    </tr>\n",
       "    <tr>\n",
       "      <th>featurizer.max_sample_per_class</th>\n",
       "      <td>30000</td>\n",
       "    </tr>\n",
       "    <tr>\n",
       "      <th>model.batch_size</th>\n",
       "      <td>512</td>\n",
       "    </tr>\n",
       "    <tr>\n",
       "      <th>model.cells</th>\n",
       "      <td>125</td>\n",
       "    </tr>\n",
       "    <tr>\n",
       "      <th>model.lr</th>\n",
       "      <td>0.01</td>\n",
       "    </tr>\n",
       "    <tr>\n",
       "      <th>model.nb_epoch</th>\n",
       "      <td>500</td>\n",
       "    </tr>\n",
       "    <tr>\n",
       "      <th>model.rnn_type</th>\n",
       "      <td>gru</td>\n",
       "    </tr>\n",
       "    <tr>\n",
       "      <th>result.test_acc</th>\n",
       "      <td>0.956167</td>\n",
       "    </tr>\n",
       "  </tbody>\n",
       "</table>\n",
       "</div>"
      ],
      "text/plain": [
       "                                     2178\n",
       "featurizer.max_len                      9\n",
       "featurizer.max_sample_per_class     30000\n",
       "model.batch_size                      512\n",
       "model.cells                           125\n",
       "model.lr                             0.01\n",
       "model.nb_epoch                        500\n",
       "model.rnn_type                        gru\n",
       "result.test_acc                  0.956167"
      ]
     },
     "execution_count": 16,
     "metadata": {},
     "output_type": "execute_result"
    }
   ],
   "source": [
    "best = exp1_rnn.loc[exp1_rnn['result.test_acc'].idxmax()]\n",
    "best[display_filter].to_frame()"
   ]
  },
  {
   "cell_type": "markdown",
   "metadata": {},
   "source": [
    "## Varying the number of LSTM / GRU cells"
   ]
  },
  {
   "cell_type": "code",
   "execution_count": 17,
   "metadata": {
    "collapsed": true
   },
   "outputs": [],
   "source": [
    "compare_params = [\n",
    "    'featurizer.max_sample_per_class', 'featurizer.max_len',\n",
    "    'model.batch_size', 'model.nb_epoch', 'model.lr'\n",
    "]"
   ]
  },
  {
   "cell_type": "code",
   "execution_count": 18,
   "metadata": {
    "collapsed": false
   },
   "outputs": [
    {
     "data": {
      "text/html": [
       "<div>\n",
       "<table border=\"1\" class=\"dataframe\">\n",
       "  <thead>\n",
       "    <tr style=\"text-align: right;\">\n",
       "      <th></th>\n",
       "      <th>lstm</th>\n",
       "      <th>gru</th>\n",
       "    </tr>\n",
       "  </thead>\n",
       "  <tbody>\n",
       "    <tr>\n",
       "      <th>1.0</th>\n",
       "      <td>0.823833</td>\n",
       "      <td>0.781167</td>\n",
       "    </tr>\n",
       "    <tr>\n",
       "      <th>2.0</th>\n",
       "      <td>0.888833</td>\n",
       "      <td>0.866333</td>\n",
       "    </tr>\n",
       "    <tr>\n",
       "      <th>5.0</th>\n",
       "      <td>0.909667</td>\n",
       "      <td>0.914667</td>\n",
       "    </tr>\n",
       "    <tr>\n",
       "      <th>10.0</th>\n",
       "      <td>0.928333</td>\n",
       "      <td>0.921167</td>\n",
       "    </tr>\n",
       "    <tr>\n",
       "      <th>20.0</th>\n",
       "      <td>0.945000</td>\n",
       "      <td>0.942333</td>\n",
       "    </tr>\n",
       "    <tr>\n",
       "      <th>25.0</th>\n",
       "      <td>0.943333</td>\n",
       "      <td>0.946000</td>\n",
       "    </tr>\n",
       "    <tr>\n",
       "      <th>50.0</th>\n",
       "      <td>0.948333</td>\n",
       "      <td>0.949167</td>\n",
       "    </tr>\n",
       "    <tr>\n",
       "      <th>75.0</th>\n",
       "      <td>0.953667</td>\n",
       "      <td>0.953417</td>\n",
       "    </tr>\n",
       "    <tr>\n",
       "      <th>100.0</th>\n",
       "      <td>0.946833</td>\n",
       "      <td>0.952417</td>\n",
       "    </tr>\n",
       "    <tr>\n",
       "      <th>125.0</th>\n",
       "      <td>0.953667</td>\n",
       "      <td>0.956083</td>\n",
       "    </tr>\n",
       "    <tr>\n",
       "      <th>150.0</th>\n",
       "      <td>0.953167</td>\n",
       "      <td>0.944500</td>\n",
       "    </tr>\n",
       "  </tbody>\n",
       "</table>\n",
       "</div>"
      ],
      "text/plain": [
       "           lstm       gru\n",
       "1.0    0.823833  0.781167\n",
       "2.0    0.888833  0.866333\n",
       "5.0    0.909667  0.914667\n",
       "10.0   0.928333  0.921167\n",
       "20.0   0.945000  0.942333\n",
       "25.0   0.943333  0.946000\n",
       "50.0   0.948333  0.949167\n",
       "75.0   0.953667  0.953417\n",
       "100.0  0.946833  0.952417\n",
       "125.0  0.953667  0.956083\n",
       "150.0  0.953167  0.944500"
      ]
     },
     "execution_count": 18,
     "metadata": {},
     "output_type": "execute_result"
    },
    {
     "data": {
      "text/plain": [
       "<matplotlib.figure.Figure at 0x7fb5e343eba8>"
      ]
     },
     "metadata": {},
     "output_type": "display_data"
    },
    {
     "data": {
      "image/png": "[encoded data removed]",
      "text/plain": [
       "<matplotlib.figure.Figure at 0x7fb5ac292550>"
      ]
     },
     "metadata": {},
     "output_type": "display_data"
    }
   ],
   "source": [
    "d = filter_similar(exp1_rnn, best, compare_params)[display_filter]\n",
    "\n",
    "df2 = pd.DataFrame(columns=['lstm', 'gru'])\n",
    "for g, frame in d.groupby(compare_params + ['model.cells']):\n",
    "    gru = frame[frame['model.rnn_type'] == 'gru'].mean()['result.test_acc']\n",
    "    lstm = frame[frame['model.rnn_type'] == 'lstm'].mean()['result.test_acc']\n",
    "    df2.loc[g[-1]] = pd.Series({'lstm': lstm, 'gru': gru})\n",
    "    \n",
    "fig = plt.figure()\n",
    "df2.plot(y=['lstm', 'gru'], kind='bar')\n",
    "plt.xlabel(\"LSTM/GRU cells\")\n",
    "plt.ylabel(\"Test accuracy\")\n",
    "plt.legend(bbox_to_anchor=[1, 0.25])\n",
    "df2"
   ]
  },
  {
   "cell_type": "markdown",
   "metadata": {},
   "source": [
    "## Varying maxlen\n",
    "\n",
    "maximum length of the input sequence - this is roughly the same parameter as `last_char`"
   ]
  },
  {
   "cell_type": "code",
   "execution_count": 19,
   "metadata": {
    "collapsed": true
   },
   "outputs": [],
   "source": [
    "compare_params = [\n",
    "    'featurizer.max_sample_per_class',\n",
    "    'model.batch_size', 'model.cells', 'model.nb_epoch', 'model.lr'\n",
    "]"
   ]
  },
  {
   "cell_type": "code",
   "execution_count": 20,
   "metadata": {
    "collapsed": false
   },
   "outputs": [],
   "source": [
    "d = filter_similar(exp1_rnn, best, compare_params)[display_filter]"
   ]
  },
  {
   "cell_type": "code",
   "execution_count": 21,
   "metadata": {
    "collapsed": false
   },
   "outputs": [
    {
     "data": {
      "text/html": [
       "<div>\n",
       "<table border=\"1\" class=\"dataframe\">\n",
       "  <thead>\n",
       "    <tr style=\"text-align: right;\">\n",
       "      <th></th>\n",
       "      <th>lstm</th>\n",
       "      <th>gru</th>\n",
       "    </tr>\n",
       "  </thead>\n",
       "  <tbody>\n",
       "    <tr>\n",
       "      <th>1.0</th>\n",
       "      <td>0.500000</td>\n",
       "      <td>0.496667</td>\n",
       "    </tr>\n",
       "    <tr>\n",
       "      <th>2.0</th>\n",
       "      <td>0.638167</td>\n",
       "      <td>0.622833</td>\n",
       "    </tr>\n",
       "    <tr>\n",
       "      <th>3.0</th>\n",
       "      <td>0.831167</td>\n",
       "      <td>0.813833</td>\n",
       "    </tr>\n",
       "    <tr>\n",
       "      <th>4.0</th>\n",
       "      <td>0.892000</td>\n",
       "      <td>0.900333</td>\n",
       "    </tr>\n",
       "    <tr>\n",
       "      <th>5.0</th>\n",
       "      <td>0.942083</td>\n",
       "      <td>0.935083</td>\n",
       "    </tr>\n",
       "    <tr>\n",
       "      <th>6.0</th>\n",
       "      <td>0.951708</td>\n",
       "      <td>0.943750</td>\n",
       "    </tr>\n",
       "    <tr>\n",
       "      <th>7.0</th>\n",
       "      <td>0.955167</td>\n",
       "      <td>0.941417</td>\n",
       "    </tr>\n",
       "    <tr>\n",
       "      <th>8.0</th>\n",
       "      <td>0.953917</td>\n",
       "      <td>0.949500</td>\n",
       "    </tr>\n",
       "    <tr>\n",
       "      <th>9.0</th>\n",
       "      <td>0.953667</td>\n",
       "      <td>0.956083</td>\n",
       "    </tr>\n",
       "  </tbody>\n",
       "</table>\n",
       "</div>"
      ],
      "text/plain": [
       "         lstm       gru\n",
       "1.0  0.500000  0.496667\n",
       "2.0  0.638167  0.622833\n",
       "3.0  0.831167  0.813833\n",
       "4.0  0.892000  0.900333\n",
       "5.0  0.942083  0.935083\n",
       "6.0  0.951708  0.943750\n",
       "7.0  0.955167  0.941417\n",
       "8.0  0.953917  0.949500\n",
       "9.0  0.953667  0.956083"
      ]
     },
     "execution_count": 21,
     "metadata": {},
     "output_type": "execute_result"
    },
    {
     "data": {
      "text/plain": [
       "<matplotlib.figure.Figure at 0x7fb5ac248358>"
      ]
     },
     "metadata": {},
     "output_type": "display_data"
    },
    {
     "data": {
      "image/png": "[encoded data removed]",
      "text/plain": [
       "<matplotlib.figure.Figure at 0x7fb5ac221cc0>"
      ]
     },
     "metadata": {},
     "output_type": "display_data"
    }
   ],
   "source": [
    "df2 = pd.DataFrame(columns=['lstm', 'gru'])\n",
    "for g, frame in d.groupby(compare_params + ['featurizer.max_len']):\n",
    "    gru = frame[frame['model.rnn_type'] == 'gru'].mean()['result.test_acc']\n",
    "    lstm = frame[frame['model.rnn_type'] == 'lstm'].mean()['result.test_acc']\n",
    "    df2.loc[g[-1]] = pd.Series({'lstm': lstm, 'gru': gru})\n",
    "\n",
    "fig = plt.figure()\n",
    "df2.plot(y=['lstm', 'gru'], kind='bar')\n",
    "plt.xlabel(\"Maximum length of input sequence\")\n",
    "plt.ylabel(\"Test accuracy\")\n",
    "plt.legend(bbox_to_anchor=[1, 0.25])\n",
    "plt.tight_layout()\n",
    "plt.savefig('lstm_gru.png', dpi=900)\n",
    "\n",
    "df2"
   ]
  },
  {
   "cell_type": "markdown",
   "metadata": {},
   "source": [
    "## Other POS tags"
   ]
  },
  {
   "cell_type": "code",
   "execution_count": 22,
   "metadata": {
    "collapsed": false
   },
   "outputs": [
    {
     "data": {
      "text/html": [
       "<div>\n",
       "<table border=\"1\" class=\"dataframe\">\n",
       "  <thead>\n",
       "    <tr style=\"text-align: right;\">\n",
       "      <th></th>\n",
       "      <th>result.test_acc</th>\n",
       "    </tr>\n",
       "    <tr>\n",
       "      <th>feat.tag_filter</th>\n",
       "      <th></th>\n",
       "    </tr>\n",
       "  </thead>\n",
       "  <tbody>\n",
       "    <tr>\n",
       "      <th>('ADV', 'ADJ')</th>\n",
       "      <td>0.976594</td>\n",
       "    </tr>\n",
       "    <tr>\n",
       "      <th>('CONJ', 'NOUN')</th>\n",
       "      <td>0.990805</td>\n",
       "    </tr>\n",
       "    <tr>\n",
       "      <th>('CONJ', 'NOUN', 'ADJ', 'VERB')</th>\n",
       "      <td>0.850165</td>\n",
       "    </tr>\n",
       "    <tr>\n",
       "      <th>('NOUN', 'VERB')</th>\n",
       "      <td>0.967333</td>\n",
       "    </tr>\n",
       "  </tbody>\n",
       "</table>\n",
       "</div>"
      ],
      "text/plain": [
       "                                 result.test_acc\n",
       "feat.tag_filter                                 \n",
       "('ADV', 'ADJ')                          0.976594\n",
       "('CONJ', 'NOUN')                        0.990805\n",
       "('CONJ', 'NOUN', 'ADJ', 'VERB')         0.850165\n",
       "('NOUN', 'VERB')                        0.967333"
      ]
     },
     "execution_count": 22,
     "metadata": {},
     "output_type": "execute_result"
    }
   ],
   "source": [
    "pos = ffnn[(ffnn['feat.tag_filter'].notnull() == True) & (ffnn['feat.grep_filter'].notnull() == False)]\n",
    "pos.groupby('feat.tag_filter').max()['result.test_acc'].to_frame()"
   ]
  },
  {
   "cell_type": "code",
   "execution_count": 23,
   "metadata": {
    "collapsed": false
   },
   "outputs": [
    {
     "data": {
      "text/html": [
       "<div>\n",
       "<table border=\"1\" class=\"dataframe\">\n",
       "  <thead>\n",
       "    <tr style=\"text-align: right;\">\n",
       "      <th></th>\n",
       "      <th>result.test_acc</th>\n",
       "    </tr>\n",
       "    <tr>\n",
       "      <th>featurizer.label_filter</th>\n",
       "      <th></th>\n",
       "    </tr>\n",
       "  </thead>\n",
       "  <tbody>\n",
       "    <tr>\n",
       "      <th>('ADV', 'ADJ')</th>\n",
       "      <td>0.968000</td>\n",
       "    </tr>\n",
       "    <tr>\n",
       "      <th>('CONJ', 'NOUN')</th>\n",
       "      <td>0.983000</td>\n",
       "    </tr>\n",
       "    <tr>\n",
       "      <th>('CONJ', 'NOUN', 'ADJ', 'VERB')</th>\n",
       "      <td>0.874250</td>\n",
       "    </tr>\n",
       "    <tr>\n",
       "      <th>('NOUN', 'VERB')</th>\n",
       "      <td>0.956167</td>\n",
       "    </tr>\n",
       "  </tbody>\n",
       "</table>\n",
       "</div>"
      ],
      "text/plain": [
       "                                 result.test_acc\n",
       "featurizer.label_filter                         \n",
       "('ADV', 'ADJ')                          0.968000\n",
       "('CONJ', 'NOUN')                        0.983000\n",
       "('CONJ', 'NOUN', 'ADJ', 'VERB')         0.874250\n",
       "('NOUN', 'VERB')                        0.956167"
      ]
     },
     "execution_count": 23,
     "metadata": {},
     "output_type": "execute_result"
    }
   ],
   "source": [
    "pos = rnn[(rnn['featurizer.label_filter'].notnull() == True) & (rnn['featurizer.grep_filter'].notnull() == False)]\n",
    "pos.groupby('featurizer.label_filter').max()['result.test_acc'].to_frame()"
   ]
  },
  {
   "cell_type": "markdown",
   "metadata": {},
   "source": [
    "# Experiment 2: classifying inflectional paradigms"
   ]
  },
  {
   "cell_type": "code",
   "execution_count": 24,
   "metadata": {
    "collapsed": false
   },
   "outputs": [
    {
     "data": {
      "text/html": [
       "<div>\n",
       "<table border=\"1\" class=\"dataframe\">\n",
       "  <thead>\n",
       "    <tr style=\"text-align: right;\">\n",
       "      <th></th>\n",
       "      <th>result.test_acc</th>\n",
       "    </tr>\n",
       "    <tr>\n",
       "      <th>feat.grep_filter</th>\n",
       "      <th></th>\n",
       "    </tr>\n",
       "  </thead>\n",
       "  <tbody>\n",
       "    <tr>\n",
       "      <th>('&lt;ACC',)</th>\n",
       "      <td>0.998135</td>\n",
       "    </tr>\n",
       "    <tr>\n",
       "      <th>('&lt;CAS&lt;ACC', '&lt;CAS&lt;DAT', '&lt;CAS&lt;INE', '&lt;CAS&lt;INS', '&lt;CAS&lt;SBL')</th>\n",
       "      <td>0.989333</td>\n",
       "    </tr>\n",
       "    <tr>\n",
       "      <th>('&lt;CAS&lt;ACC', '&lt;CAS&lt;DAT', '&lt;CAS&lt;INE', '&lt;CAS&lt;INS', '&lt;CAS&lt;SBL', '&lt;CAS&lt;SUE', '&lt;CAS&lt;ALL', '&lt;CAS&lt;ILL', '&lt;CAS&lt;ELA', '&lt;CAS&lt;DEL')</th>\n",
       "      <td>0.992667</td>\n",
       "    </tr>\n",
       "    <tr>\n",
       "      <th>('&lt;COND',)</th>\n",
       "      <td>0.999165</td>\n",
       "    </tr>\n",
       "    <tr>\n",
       "      <th>('&lt;PAST',)</th>\n",
       "      <td>0.994333</td>\n",
       "    </tr>\n",
       "    <tr>\n",
       "      <th>('&lt;PERS&lt;1', '&lt;PERS&lt;2')</th>\n",
       "      <td>0.989333</td>\n",
       "    </tr>\n",
       "    <tr>\n",
       "      <th>('&lt;PLUR',)</th>\n",
       "      <td>0.997211</td>\n",
       "    </tr>\n",
       "  </tbody>\n",
       "</table>\n",
       "</div>"
      ],
      "text/plain": [
       "                                                    result.test_acc\n",
       "feat.grep_filter                                                   \n",
       "('<ACC',)                                                  0.998135\n",
       "('<CAS<ACC', '<CAS<DAT', '<CAS<INE', '<CAS<INS'...         0.989333\n",
       "('<CAS<ACC', '<CAS<DAT', '<CAS<INE', '<CAS<INS'...         0.992667\n",
       "('<COND',)                                                 0.999165\n",
       "('<PAST',)                                                 0.994333\n",
       "('<PERS<1', '<PERS<2')                                     0.989333\n",
       "('<PLUR',)                                                 0.997211"
      ]
     },
     "execution_count": 24,
     "metadata": {},
     "output_type": "execute_result"
    }
   ],
   "source": [
    "exp3 = ffnn[ffnn['feat.grep_filter'].notnull()]\n",
    "exp3.groupby(['feat.grep_filter']).max()['result.test_acc'].to_frame()"
   ]
  },
  {
   "cell_type": "code",
   "execution_count": 25,
   "metadata": {
    "collapsed": false
   },
   "outputs": [
    {
     "data": {
      "text/html": [
       "<div>\n",
       "<table border=\"1\" class=\"dataframe\">\n",
       "  <thead>\n",
       "    <tr style=\"text-align: right;\">\n",
       "      <th></th>\n",
       "      <th>result.test_acc</th>\n",
       "    </tr>\n",
       "    <tr>\n",
       "      <th>featurizer.grep_filter</th>\n",
       "      <th></th>\n",
       "    </tr>\n",
       "  </thead>\n",
       "  <tbody>\n",
       "    <tr>\n",
       "      <th>('&lt;ACC',)</th>\n",
       "      <td>0.995500</td>\n",
       "    </tr>\n",
       "    <tr>\n",
       "      <th>('&lt;CAS&lt;ACC', '&lt;CAS&lt;DAT', '&lt;CAS&lt;INE', '&lt;CAS&lt;INS', '&lt;CAS&lt;SBL')</th>\n",
       "      <td>0.993500</td>\n",
       "    </tr>\n",
       "    <tr>\n",
       "      <th>('&lt;CAS&lt;ACC', '&lt;CAS&lt;DAT', '&lt;CAS&lt;INE', '&lt;CAS&lt;INS', '&lt;CAS&lt;SBL', '&lt;CAS&lt;SUE', '&lt;CAS&lt;ALL', '&lt;CAS&lt;ILL', '&lt;CAS&lt;ELA', '&lt;CAS&lt;DEL')</th>\n",
       "      <td>0.993091</td>\n",
       "    </tr>\n",
       "    <tr>\n",
       "      <th>('&lt;COND',)</th>\n",
       "      <td>1.000000</td>\n",
       "    </tr>\n",
       "    <tr>\n",
       "      <th>('&lt;PAST',)</th>\n",
       "      <td>0.981500</td>\n",
       "    </tr>\n",
       "    <tr>\n",
       "      <th>('&lt;PERS&lt;1', '&lt;PERS&lt;2', '')</th>\n",
       "      <td>0.995667</td>\n",
       "    </tr>\n",
       "    <tr>\n",
       "      <th>('&lt;PLUR',)</th>\n",
       "      <td>0.989500</td>\n",
       "    </tr>\n",
       "  </tbody>\n",
       "</table>\n",
       "</div>"
      ],
      "text/plain": [
       "                                                    result.test_acc\n",
       "featurizer.grep_filter                                             \n",
       "('<ACC',)                                                  0.995500\n",
       "('<CAS<ACC', '<CAS<DAT', '<CAS<INE', '<CAS<INS'...         0.993500\n",
       "('<CAS<ACC', '<CAS<DAT', '<CAS<INE', '<CAS<INS'...         0.993091\n",
       "('<COND',)                                                 1.000000\n",
       "('<PAST',)                                                 0.981500\n",
       "('<PERS<1', '<PERS<2', '')                                 0.995667\n",
       "('<PLUR',)                                                 0.989500"
      ]
     },
     "execution_count": 25,
     "metadata": {},
     "output_type": "execute_result"
    }
   ],
   "source": [
    "exp3 = rnn[rnn['featurizer.grep_filter'].notnull()]\n",
    "exp3.groupby(['featurizer.grep_filter']).max()['result.test_acc'].to_frame()"
   ]
  },
  {
   "cell_type": "code",
   "execution_count": null,
   "metadata": {
    "collapsed": true
   },
   "outputs": [],
   "source": []
  },
  {
   "cell_type": "code",
   "execution_count": null,
   "metadata": {
    "collapsed": true
   },
   "outputs": [],
   "source": []
  },
  {
   "cell_type": "markdown",
   "metadata": {},
   "source": [
    "# Experiment 3: classifying tag clusers"
   ]
  },
  {
   "cell_type": "code",
   "execution_count": 26,
   "metadata": {
    "collapsed": false
   },
   "outputs": [
    {
     "data": {
      "text/plain": [
       "27"
      ]
     },
     "execution_count": 26,
     "metadata": {},
     "output_type": "execute_result"
    }
   ],
   "source": [
    "exp3 = ffnn[ffnn['feat.data_path'].str.contains(\"clustered\")].copy()\n",
    "len(exp3)"
   ]
  },
  {
   "cell_type": "code",
   "execution_count": 27,
   "metadata": {
    "collapsed": false
   },
   "outputs": [
    {
     "data": {
      "text/html": [
       "<div>\n",
       "<table border=\"1\" class=\"dataframe\">\n",
       "  <thead>\n",
       "    <tr style=\"text-align: right;\">\n",
       "      <th></th>\n",
       "      <th>feat.tag_limit_in_cluster</th>\n",
       "      <th>feat.sample_per_class</th>\n",
       "      <th>result.test_acc</th>\n",
       "    </tr>\n",
       "  </thead>\n",
       "  <tbody>\n",
       "    <tr>\n",
       "      <th>387</th>\n",
       "      <td>1.0</td>\n",
       "      <td>100.0</td>\n",
       "      <td>0.287097</td>\n",
       "    </tr>\n",
       "    <tr>\n",
       "      <th>382</th>\n",
       "      <td>2.0</td>\n",
       "      <td>100.0</td>\n",
       "      <td>0.386364</td>\n",
       "    </tr>\n",
       "    <tr>\n",
       "      <th>383</th>\n",
       "      <td>3.0</td>\n",
       "      <td>100.0</td>\n",
       "      <td>0.427379</td>\n",
       "    </tr>\n",
       "    <tr>\n",
       "      <th>388</th>\n",
       "      <td>4.0</td>\n",
       "      <td>100.0</td>\n",
       "      <td>0.457903</td>\n",
       "    </tr>\n",
       "    <tr>\n",
       "      <th>384</th>\n",
       "      <td>5.0</td>\n",
       "      <td>100.0</td>\n",
       "      <td>0.493169</td>\n",
       "    </tr>\n",
       "    <tr>\n",
       "      <th>389</th>\n",
       "      <td>6.0</td>\n",
       "      <td>100.0</td>\n",
       "      <td>0.508453</td>\n",
       "    </tr>\n",
       "    <tr>\n",
       "      <th>390</th>\n",
       "      <td>7.0</td>\n",
       "      <td>100.0</td>\n",
       "      <td>0.494975</td>\n",
       "    </tr>\n",
       "    <tr>\n",
       "      <th>391</th>\n",
       "      <td>8.0</td>\n",
       "      <td>100.0</td>\n",
       "      <td>0.503053</td>\n",
       "    </tr>\n",
       "    <tr>\n",
       "      <th>392</th>\n",
       "      <td>9.0</td>\n",
       "      <td>100.0</td>\n",
       "      <td>0.535161</td>\n",
       "    </tr>\n",
       "    <tr>\n",
       "      <th>208</th>\n",
       "      <td>10.0</td>\n",
       "      <td>100.0</td>\n",
       "      <td>0.523419</td>\n",
       "    </tr>\n",
       "    <tr>\n",
       "      <th>393</th>\n",
       "      <td>11.0</td>\n",
       "      <td>100.0</td>\n",
       "      <td>0.563867</td>\n",
       "    </tr>\n",
       "    <tr>\n",
       "      <th>394</th>\n",
       "      <td>12.0</td>\n",
       "      <td>100.0</td>\n",
       "      <td>0.542045</td>\n",
       "    </tr>\n",
       "    <tr>\n",
       "      <th>395</th>\n",
       "      <td>13.0</td>\n",
       "      <td>100.0</td>\n",
       "      <td>0.540965</td>\n",
       "    </tr>\n",
       "    <tr>\n",
       "      <th>207</th>\n",
       "      <td>14.0</td>\n",
       "      <td>100.0</td>\n",
       "      <td>0.536151</td>\n",
       "    </tr>\n",
       "    <tr>\n",
       "      <th>385</th>\n",
       "      <td>15.0</td>\n",
       "      <td>100.0</td>\n",
       "      <td>0.561191</td>\n",
       "    </tr>\n",
       "    <tr>\n",
       "      <th>386</th>\n",
       "      <td>20.0</td>\n",
       "      <td>100.0</td>\n",
       "      <td>0.568690</td>\n",
       "    </tr>\n",
       "    <tr>\n",
       "      <th>209</th>\n",
       "      <td>25.0</td>\n",
       "      <td>100.0</td>\n",
       "      <td>0.592516</td>\n",
       "    </tr>\n",
       "    <tr>\n",
       "      <th>210</th>\n",
       "      <td>50.0</td>\n",
       "      <td>100.0</td>\n",
       "      <td>0.594567</td>\n",
       "    </tr>\n",
       "    <tr>\n",
       "      <th>211</th>\n",
       "      <td>75.0</td>\n",
       "      <td>100.0</td>\n",
       "      <td>0.608911</td>\n",
       "    </tr>\n",
       "    <tr>\n",
       "      <th>212</th>\n",
       "      <td>100.0</td>\n",
       "      <td>100.0</td>\n",
       "      <td>0.605289</td>\n",
       "    </tr>\n",
       "    <tr>\n",
       "      <th>213</th>\n",
       "      <td>200.0</td>\n",
       "      <td>100.0</td>\n",
       "      <td>0.616635</td>\n",
       "    </tr>\n",
       "    <tr>\n",
       "      <th>214</th>\n",
       "      <td>500.0</td>\n",
       "      <td>100.0</td>\n",
       "      <td>0.631977</td>\n",
       "    </tr>\n",
       "    <tr>\n",
       "      <th>215</th>\n",
       "      <td>1000.0</td>\n",
       "      <td>100.0</td>\n",
       "      <td>0.646284</td>\n",
       "    </tr>\n",
       "    <tr>\n",
       "      <th>216</th>\n",
       "      <td>2000.0</td>\n",
       "      <td>100.0</td>\n",
       "      <td>0.685741</td>\n",
       "    </tr>\n",
       "    <tr>\n",
       "      <th>217</th>\n",
       "      <td>5000.0</td>\n",
       "      <td>100.0</td>\n",
       "      <td>0.665421</td>\n",
       "    </tr>\n",
       "    <tr>\n",
       "      <th>218</th>\n",
       "      <td>10000.0</td>\n",
       "      <td>100.0</td>\n",
       "      <td>0.673507</td>\n",
       "    </tr>\n",
       "    <tr>\n",
       "      <th>219</th>\n",
       "      <td>50000.0</td>\n",
       "      <td>100.0</td>\n",
       "      <td>0.702980</td>\n",
       "    </tr>\n",
       "  </tbody>\n",
       "</table>\n",
       "</div>"
      ],
      "text/plain": [
       "     feat.tag_limit_in_cluster  feat.sample_per_class  result.test_acc\n",
       "387                        1.0                  100.0         0.287097\n",
       "382                        2.0                  100.0         0.386364\n",
       "383                        3.0                  100.0         0.427379\n",
       "388                        4.0                  100.0         0.457903\n",
       "384                        5.0                  100.0         0.493169\n",
       "389                        6.0                  100.0         0.508453\n",
       "390                        7.0                  100.0         0.494975\n",
       "391                        8.0                  100.0         0.503053\n",
       "392                        9.0                  100.0         0.535161\n",
       "208                       10.0                  100.0         0.523419\n",
       "393                       11.0                  100.0         0.563867\n",
       "394                       12.0                  100.0         0.542045\n",
       "395                       13.0                  100.0         0.540965\n",
       "207                       14.0                  100.0         0.536151\n",
       "385                       15.0                  100.0         0.561191\n",
       "386                       20.0                  100.0         0.568690\n",
       "209                       25.0                  100.0         0.592516\n",
       "210                       50.0                  100.0         0.594567\n",
       "211                       75.0                  100.0         0.608911\n",
       "212                      100.0                  100.0         0.605289\n",
       "213                      200.0                  100.0         0.616635\n",
       "214                      500.0                  100.0         0.631977\n",
       "215                     1000.0                  100.0         0.646284\n",
       "216                     2000.0                  100.0         0.685741\n",
       "217                     5000.0                  100.0         0.665421\n",
       "218                    10000.0                  100.0         0.673507\n",
       "219                    50000.0                  100.0         0.702980"
      ]
     },
     "execution_count": 27,
     "metadata": {},
     "output_type": "execute_result"
    }
   ],
   "source": [
    "exp3[['feat.tag_limit_in_cluster', 'feat.sample_per_class', 'result.test_acc']].sort_values('feat.tag_limit_in_cluster')"
   ]
  },
  {
   "cell_type": "markdown",
   "metadata": {},
   "source": [
    "## Best configuration"
   ]
  },
  {
   "cell_type": "code",
   "execution_count": 28,
   "metadata": {
    "collapsed": false
   },
   "outputs": [
    {
     "data": {
      "text/html": [
       "<div>\n",
       "<table border=\"1\" class=\"dataframe\">\n",
       "  <thead>\n",
       "    <tr style=\"text-align: right;\">\n",
       "      <th></th>\n",
       "      <th>219</th>\n",
       "    </tr>\n",
       "  </thead>\n",
       "  <tbody>\n",
       "    <tr>\n",
       "      <th>feat.N</th>\n",
       "      <td>2</td>\n",
       "    </tr>\n",
       "    <tr>\n",
       "      <th>feat.data_path</th>\n",
       "      <td>/mnt/store/judit/projects/ulm/vitmav45-2016-Mo...</td>\n",
       "    </tr>\n",
       "    <tr>\n",
       "      <th>feat.encoding</th>\n",
       "      <td>latin2</td>\n",
       "    </tr>\n",
       "    <tr>\n",
       "      <th>feat.include_smaller_ngrams</th>\n",
       "      <td>True</td>\n",
       "    </tr>\n",
       "    <tr>\n",
       "      <th>feat.last_char</th>\n",
       "      <td>6</td>\n",
       "    </tr>\n",
       "    <tr>\n",
       "      <th>feat.max_lines</th>\n",
       "      <td>2e+07</td>\n",
       "    </tr>\n",
       "    <tr>\n",
       "      <th>feat.sample_per_class</th>\n",
       "      <td>100</td>\n",
       "    </tr>\n",
       "    <tr>\n",
       "      <th>feat.shuffled</th>\n",
       "      <td>True</td>\n",
       "    </tr>\n",
       "    <tr>\n",
       "      <th>feat.tag_limit_in_cluster</th>\n",
       "      <td>50000</td>\n",
       "    </tr>\n",
       "    <tr>\n",
       "      <th>feat.uniq_lines</th>\n",
       "      <td>True</td>\n",
       "    </tr>\n",
       "    <tr>\n",
       "      <th>feat.use_padding</th>\n",
       "      <td>True</td>\n",
       "    </tr>\n",
       "    <tr>\n",
       "      <th>global.comment</th>\n",
       "      <td>limit freq[kr_tag][replace_to] to 50000. A sin...</td>\n",
       "    </tr>\n",
       "    <tr>\n",
       "      <th>global.nolog</th>\n",
       "      <td>False</td>\n",
       "    </tr>\n",
       "    <tr>\n",
       "      <th>global.train_test_split</th>\n",
       "      <td>0.9</td>\n",
       "    </tr>\n",
       "    <tr>\n",
       "      <th>model.activations</th>\n",
       "      <td>('sigmoid', 'sigmoid', 'sigmoid')</td>\n",
       "    </tr>\n",
       "    <tr>\n",
       "      <th>model.architecture</th>\n",
       "      <td>FFNN</td>\n",
       "    </tr>\n",
       "    <tr>\n",
       "      <th>model.batch_size</th>\n",
       "      <td>500</td>\n",
       "    </tr>\n",
       "    <tr>\n",
       "      <th>model.early_stopping</th>\n",
       "      <td>True</td>\n",
       "    </tr>\n",
       "    <tr>\n",
       "      <th>model.input_dim</th>\n",
       "      <td>3452</td>\n",
       "    </tr>\n",
       "    <tr>\n",
       "      <th>model.layers</th>\n",
       "      <td>(40, 40)</td>\n",
       "    </tr>\n",
       "    <tr>\n",
       "      <th>model.loss</th>\n",
       "      <td>categorical_crossentropy</td>\n",
       "    </tr>\n",
       "    <tr>\n",
       "      <th>model.metrics</th>\n",
       "      <td>['accuracy']</td>\n",
       "    </tr>\n",
       "    <tr>\n",
       "      <th>model.nb_epoch</th>\n",
       "      <td>300</td>\n",
       "    </tr>\n",
       "    <tr>\n",
       "      <th>model.optimizer</th>\n",
       "      <td>rmsprop</td>\n",
       "    </tr>\n",
       "    <tr>\n",
       "      <th>model.output_dim</th>\n",
       "      <td>119</td>\n",
       "    </tr>\n",
       "    <tr>\n",
       "      <th>result.class_no</th>\n",
       "      <td>119</td>\n",
       "    </tr>\n",
       "    <tr>\n",
       "      <th>result.feature_count</th>\n",
       "      <td>3452</td>\n",
       "    </tr>\n",
       "    <tr>\n",
       "      <th>result.running_time</th>\n",
       "      <td>0 days 00:00:29.232535</td>\n",
       "    </tr>\n",
       "    <tr>\n",
       "      <th>result.success</th>\n",
       "      <td>True</td>\n",
       "    </tr>\n",
       "    <tr>\n",
       "      <th>result.test_acc</th>\n",
       "      <td>0.70298</td>\n",
       "    </tr>\n",
       "    <tr>\n",
       "      <th>result.test_loss</th>\n",
       "      <td>1.22573</td>\n",
       "    </tr>\n",
       "    <tr>\n",
       "      <th>result.test_sample_count</th>\n",
       "      <td>1074</td>\n",
       "    </tr>\n",
       "    <tr>\n",
       "      <th>result.timestamp</th>\n",
       "      <td>2016-12-17 20:40:47.309799</td>\n",
       "    </tr>\n",
       "    <tr>\n",
       "      <th>result.train_acc</th>\n",
       "      <td>0.834972</td>\n",
       "    </tr>\n",
       "    <tr>\n",
       "      <th>result.train_loss</th>\n",
       "      <td>0.704098</td>\n",
       "    </tr>\n",
       "    <tr>\n",
       "      <th>result.train_sample_count</th>\n",
       "      <td>9665</td>\n",
       "    </tr>\n",
       "  </tbody>\n",
       "</table>\n",
       "</div>"
      ],
      "text/plain": [
       "                                                                           219\n",
       "feat.N                                                                       2\n",
       "feat.data_path               /mnt/store/judit/projects/ulm/vitmav45-2016-Mo...\n",
       "feat.encoding                                                           latin2\n",
       "feat.include_smaller_ngrams                                               True\n",
       "feat.last_char                                                               6\n",
       "feat.max_lines                                                           2e+07\n",
       "feat.sample_per_class                                                      100\n",
       "feat.shuffled                                                             True\n",
       "feat.tag_limit_in_cluster                                                50000\n",
       "feat.uniq_lines                                                           True\n",
       "feat.use_padding                                                          True\n",
       "global.comment               limit freq[kr_tag][replace_to] to 50000. A sin...\n",
       "global.nolog                                                             False\n",
       "global.train_test_split                                                    0.9\n",
       "model.activations                            ('sigmoid', 'sigmoid', 'sigmoid')\n",
       "model.architecture                                                        FFNN\n",
       "model.batch_size                                                           500\n",
       "model.early_stopping                                                      True\n",
       "model.input_dim                                                           3452\n",
       "model.layers                                                          (40, 40)\n",
       "model.loss                                            categorical_crossentropy\n",
       "model.metrics                                                     ['accuracy']\n",
       "model.nb_epoch                                                             300\n",
       "model.optimizer                                                        rmsprop\n",
       "model.output_dim                                                           119\n",
       "result.class_no                                                            119\n",
       "result.feature_count                                                      3452\n",
       "result.running_time                                     0 days 00:00:29.232535\n",
       "result.success                                                            True\n",
       "result.test_acc                                                        0.70298\n",
       "result.test_loss                                                       1.22573\n",
       "result.test_sample_count                                                  1074\n",
       "result.timestamp                                    2016-12-17 20:40:47.309799\n",
       "result.train_acc                                                      0.834972\n",
       "result.train_loss                                                     0.704098\n",
       "result.train_sample_count                                                 9665"
      ]
     },
     "execution_count": 28,
     "metadata": {},
     "output_type": "execute_result"
    }
   ],
   "source": [
    "exp3.loc[exp3['result.test_acc'].idxmax()].dropna().sort_index().to_frame()"
   ]
  },
  {
   "cell_type": "code",
   "execution_count": null,
   "metadata": {
    "collapsed": true
   },
   "outputs": [],
   "source": []
  }
 ],
 "metadata": {
  "kernelspec": {
   "display_name": "Python 3",
   "language": "python",
   "name": "python3"
  },
  "language_info": {
   "codemirror_mode": {
    "name": "ipython",
    "version": 3
   },
   "file_extension": ".py",
   "mimetype": "text/x-python",
   "name": "python",
   "nbconvert_exporter": "python",
   "pygments_lexer": "ipython3",
   "version": "3.4.2"
  }
 },
 "nbformat": 4,
 "nbformat_minor": 1
}
