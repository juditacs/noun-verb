{
 "cells": [
  {
   "cell_type": "markdown",
   "metadata": {},
   "source": [
    "# Experiment analysis"
   ]
  },
  {
   "cell_type": "code",
   "execution_count": 1,
   "metadata": {
    "collapsed": false
   },
   "outputs": [],
   "source": [
    "import pandas as pd\n",
    "\n",
    "import matplotlib.pyplot as plt\n",
    "plt.style.use('ggplot')\n",
    "plt.rcParams['figure.figsize'] = (25, 13)\n",
    "plt.rcParams['font.family'] = 'sans-serif'\n",
    "plt.rcParams['font.size'] = 20\n",
    "%matplotlib inline"
   ]
  },
  {
   "cell_type": "code",
   "execution_count": 199,
   "metadata": {
    "collapsed": false
   },
   "outputs": [
    {
     "name": "stdout",
     "output_type": "stream",
     "text": [
      "Successful: 472\n",
      "Failed: 0\n",
      "Filtering failed experiments.\n"
     ]
    }
   ],
   "source": [
    "df = pd.read_table('results.tsv', sep='\\t')\n",
    "print(\"Successful: {}\\nFailed: {}\".format(len(df[df['result.success'] == True]), len(df[df['result.success'] == False])))\n",
    "\n",
    "print(\"Filtering failed experiments.\")\n",
    "df = df[df['result.success'] == True]"
   ]
  },
  {
   "cell_type": "code",
   "execution_count": 151,
   "metadata": {
    "collapsed": false
   },
   "outputs": [],
   "source": [
    "def get_varying_columns(df, prefix=None):\n",
    "    out_cols = []\n",
    "    filtered_cols = df.columns\n",
    "    if prefix is not None:\n",
    "        filtered_cols = filter(lambda x: x.startswith(prefix), filtered_cols)\n",
    "    for col in filtered_cols:\n",
    "        if df[col].unique().shape[0] > 1:\n",
    "            out_cols.append(col)\n",
    "    return out_cols\n",
    "\n",
    "def get_too_varying_columns(df, prefix=None, threshold=0.95):\n",
    "    out_cols = []\n",
    "    filtered_cols = df.columns\n",
    "    if prefix is not None:\n",
    "        filtered_cols = filter(lambda x: x.startswith(prefix), cols)\n",
    "    for col in filtered_cols:\n",
    "        uniq_vals = df[col].unique().shape[0]\n",
    "        if uniq_vals > threshold * len(df):\n",
    "            out_cols.append(col)\n",
    "    return out_cols"
   ]
  },
  {
   "cell_type": "code",
   "execution_count": 190,
   "metadata": {
    "collapsed": false
   },
   "outputs": [],
   "source": [
    "feat_uniq_col = get_varying_columns(df, 'feat.')\n",
    "result_uniq_col = get_varying_columns(df, 'result.')\n",
    "model_uniq_col = get_varying_columns(df, 'model.')\n",
    "non_monoton = get_varying_columns(df)\n",
    "uninteresting_columns = filter(lambda x: x not in non_monoton, df.columns)\n",
    "ignore_cols = [\n",
    "    'result.train_loss', 'result.test_loss', 'result.timestamp', 'result.running_time',\n",
    "]\n",
    "result_uniq_col = [col for col in result_uniq_col if col not in ignore_cols]\n",
    "interesting_columns = result_uniq_col + feat_uniq_col + model_uniq_col"
   ]
  },
  {
   "cell_type": "markdown",
   "metadata": {},
   "source": [
    "## Unique feature combinations"
   ]
  },
  {
   "cell_type": "code",
   "execution_count": 191,
   "metadata": {
    "collapsed": false
   },
   "outputs": [
    {
     "data": {
      "text/html": [
       "<div>\n",
       "<table border=\"1\" class=\"dataframe\">\n",
       "  <thead>\n",
       "    <tr style=\"text-align: right;\">\n",
       "      <th></th>\n",
       "      <th>feat.use_padding</th>\n",
       "      <th>feat.sample_per_class</th>\n",
       "      <th>feat.include_smaller_ngrams</th>\n",
       "      <th>feat.N</th>\n",
       "    </tr>\n",
       "  </thead>\n",
       "  <tbody>\n",
       "    <tr>\n",
       "      <th>0</th>\n",
       "      <td>True</td>\n",
       "      <td>10000.0</td>\n",
       "      <td>False</td>\n",
       "      <td>2.0</td>\n",
       "    </tr>\n",
       "    <tr>\n",
       "      <th>72</th>\n",
       "      <td>True</td>\n",
       "      <td>10000.0</td>\n",
       "      <td>False</td>\n",
       "      <td>1.0</td>\n",
       "    </tr>\n",
       "    <tr>\n",
       "      <th>204</th>\n",
       "      <td>True</td>\n",
       "      <td>30000.0</td>\n",
       "      <td>False</td>\n",
       "      <td>1.0</td>\n",
       "    </tr>\n",
       "    <tr>\n",
       "      <th>336</th>\n",
       "      <td>False</td>\n",
       "      <td>30000.0</td>\n",
       "      <td>False</td>\n",
       "      <td>6.0</td>\n",
       "    </tr>\n",
       "    <tr>\n",
       "      <th>402</th>\n",
       "      <td>True</td>\n",
       "      <td>30000.0</td>\n",
       "      <td>False</td>\n",
       "      <td>2.0</td>\n",
       "    </tr>\n",
       "    <tr>\n",
       "      <th>432</th>\n",
       "      <td>True</td>\n",
       "      <td>30000.0</td>\n",
       "      <td>True</td>\n",
       "      <td>2.0</td>\n",
       "    </tr>\n",
       "  </tbody>\n",
       "</table>\n",
       "</div>"
      ],
      "text/plain": [
       "    feat.use_padding  feat.sample_per_class feat.include_smaller_ngrams  \\\n",
       "0               True                10000.0                       False   \n",
       "72              True                10000.0                       False   \n",
       "204             True                30000.0                       False   \n",
       "336            False                30000.0                       False   \n",
       "402             True                30000.0                       False   \n",
       "432             True                30000.0                        True   \n",
       "\n",
       "     feat.N  \n",
       "0       2.0  \n",
       "72      1.0  \n",
       "204     1.0  \n",
       "336     6.0  \n",
       "402     2.0  \n",
       "432     2.0  "
      ]
     },
     "execution_count": 191,
     "metadata": {},
     "output_type": "execute_result"
    }
   ],
   "source": [
    "df[feature_col].drop_duplicates()"
   ]
  },
  {
   "cell_type": "markdown",
   "metadata": {},
   "source": [
    "### Number of experiments per combination"
   ]
  },
  {
   "cell_type": "code",
   "execution_count": 161,
   "metadata": {
    "collapsed": false
   },
   "outputs": [
    {
     "data": {
      "text/html": [
       "<div>\n",
       "<table border=\"1\" class=\"dataframe\">\n",
       "  <thead>\n",
       "    <tr style=\"text-align: right;\">\n",
       "      <th></th>\n",
       "      <th></th>\n",
       "      <th></th>\n",
       "      <th></th>\n",
       "      <th>model.nb_epoch</th>\n",
       "    </tr>\n",
       "    <tr>\n",
       "      <th>feat.use_padding</th>\n",
       "      <th>feat.sample_per_class</th>\n",
       "      <th>feat.include_smaller_ngrams</th>\n",
       "      <th>feat.N</th>\n",
       "      <th></th>\n",
       "    </tr>\n",
       "  </thead>\n",
       "  <tbody>\n",
       "    <tr>\n",
       "      <th>False</th>\n",
       "      <th>30000.0</th>\n",
       "      <th>False</th>\n",
       "      <th>6.0</th>\n",
       "      <td>66</td>\n",
       "    </tr>\n",
       "    <tr>\n",
       "      <th rowspan=\"5\" valign=\"top\">True</th>\n",
       "      <th rowspan=\"2\" valign=\"top\">10000.0</th>\n",
       "      <th rowspan=\"2\" valign=\"top\">False</th>\n",
       "      <th>1.0</th>\n",
       "      <td>132</td>\n",
       "    </tr>\n",
       "    <tr>\n",
       "      <th>2.0</th>\n",
       "      <td>72</td>\n",
       "    </tr>\n",
       "    <tr>\n",
       "      <th rowspan=\"3\" valign=\"top\">30000.0</th>\n",
       "      <th rowspan=\"2\" valign=\"top\">False</th>\n",
       "      <th>1.0</th>\n",
       "      <td>132</td>\n",
       "    </tr>\n",
       "    <tr>\n",
       "      <th>2.0</th>\n",
       "      <td>30</td>\n",
       "    </tr>\n",
       "    <tr>\n",
       "      <th>True</th>\n",
       "      <th>2.0</th>\n",
       "      <td>40</td>\n",
       "    </tr>\n",
       "  </tbody>\n",
       "</table>\n",
       "</div>"
      ],
      "text/plain": [
       "                                                                           model.nb_epoch\n",
       "feat.use_padding feat.sample_per_class feat.include_smaller_ngrams feat.N                \n",
       "False            30000.0               False                       6.0                 66\n",
       "True             10000.0               False                       1.0                132\n",
       "                                                                   2.0                 72\n",
       "                 30000.0               False                       1.0                132\n",
       "                                                                   2.0                 30\n",
       "                                       True                        2.0                 40"
      ]
     },
     "execution_count": 161,
     "metadata": {},
     "output_type": "execute_result"
    }
   ],
   "source": [
    "df.groupby(feature_col).count()['model.nb_epoch'].to_frame()"
   ]
  },
  {
   "cell_type": "markdown",
   "metadata": {},
   "source": [
    "## Maximum test accuracy by feature combination"
   ]
  },
  {
   "cell_type": "code",
   "execution_count": 186,
   "metadata": {
    "collapsed": false
   },
   "outputs": [
    {
     "data": {
      "text/html": [
       "<div>\n",
       "<table border=\"1\" class=\"dataframe\">\n",
       "  <thead>\n",
       "    <tr style=\"text-align: right;\">\n",
       "      <th></th>\n",
       "      <th>result.test_acc</th>\n",
       "      <th>feat.use_padding</th>\n",
       "      <th>feat.sample_per_class</th>\n",
       "      <th>feat.include_smaller_ngrams</th>\n",
       "      <th>feat.N</th>\n",
       "      <th>model.nb_epoch</th>\n",
       "      <th>model.batch_size</th>\n",
       "      <th>model.input_dim</th>\n",
       "      <th>model.layers</th>\n",
       "    </tr>\n",
       "  </thead>\n",
       "  <tbody>\n",
       "    <tr>\n",
       "      <th>359</th>\n",
       "      <td>0.819917</td>\n",
       "      <td>False</td>\n",
       "      <td>30000.0</td>\n",
       "      <td>False</td>\n",
       "      <td>6.0</td>\n",
       "      <td>30.0</td>\n",
       "      <td>2000.0</td>\n",
       "      <td>14036.0</td>\n",
       "      <td>(40, 40)</td>\n",
       "    </tr>\n",
       "    <tr>\n",
       "      <th>198</th>\n",
       "      <td>0.945750</td>\n",
       "      <td>True</td>\n",
       "      <td>10000.0</td>\n",
       "      <td>False</td>\n",
       "      <td>1.0</td>\n",
       "      <td>100.0</td>\n",
       "      <td>50.0</td>\n",
       "      <td>396.0</td>\n",
       "      <td>(40, 40)</td>\n",
       "    </tr>\n",
       "    <tr>\n",
       "      <th>39</th>\n",
       "      <td>0.966000</td>\n",
       "      <td>True</td>\n",
       "      <td>10000.0</td>\n",
       "      <td>False</td>\n",
       "      <td>2.0</td>\n",
       "      <td>50.0</td>\n",
       "      <td>500.0</td>\n",
       "      <td>3604.0</td>\n",
       "      <td>(40, 40)</td>\n",
       "    </tr>\n",
       "    <tr>\n",
       "      <th>325</th>\n",
       "      <td>0.973417</td>\n",
       "      <td>True</td>\n",
       "      <td>30000.0</td>\n",
       "      <td>False</td>\n",
       "      <td>1.0</td>\n",
       "      <td>90.0</td>\n",
       "      <td>100.0</td>\n",
       "      <td>481.0</td>\n",
       "      <td>(100, 40)</td>\n",
       "    </tr>\n",
       "    <tr>\n",
       "      <th>429</th>\n",
       "      <td>0.979500</td>\n",
       "      <td>True</td>\n",
       "      <td>30000.0</td>\n",
       "      <td>False</td>\n",
       "      <td>2.0</td>\n",
       "      <td>900.0</td>\n",
       "      <td>3000.0</td>\n",
       "      <td>5029.0</td>\n",
       "      <td>(40, 40)</td>\n",
       "    </tr>\n",
       "    <tr>\n",
       "      <th>453</th>\n",
       "      <td>0.985333</td>\n",
       "      <td>True</td>\n",
       "      <td>30000.0</td>\n",
       "      <td>True</td>\n",
       "      <td>2.0</td>\n",
       "      <td>300.0</td>\n",
       "      <td>500.0</td>\n",
       "      <td>5510.0</td>\n",
       "      <td>(40, 40)</td>\n",
       "    </tr>\n",
       "  </tbody>\n",
       "</table>\n",
       "</div>"
      ],
      "text/plain": [
       "     result.test_acc feat.use_padding  feat.sample_per_class  \\\n",
       "359         0.819917            False                30000.0   \n",
       "198         0.945750             True                10000.0   \n",
       "39          0.966000             True                10000.0   \n",
       "325         0.973417             True                30000.0   \n",
       "429         0.979500             True                30000.0   \n",
       "453         0.985333             True                30000.0   \n",
       "\n",
       "    feat.include_smaller_ngrams  feat.N  model.nb_epoch  model.batch_size  \\\n",
       "359                       False     6.0            30.0            2000.0   \n",
       "198                       False     1.0           100.0              50.0   \n",
       "39                        False     2.0            50.0             500.0   \n",
       "325                       False     1.0            90.0             100.0   \n",
       "429                       False     2.0           900.0            3000.0   \n",
       "453                        True     2.0           300.0             500.0   \n",
       "\n",
       "     model.input_dim model.layers  \n",
       "359          14036.0     (40, 40)  \n",
       "198            396.0     (40, 40)  \n",
       "39            3604.0     (40, 40)  \n",
       "325            481.0    (100, 40)  \n",
       "429           5029.0     (40, 40)  \n",
       "453           5510.0     (40, 40)  "
      ]
     },
     "execution_count": 186,
     "metadata": {},
     "output_type": "execute_result"
    },
    {
     "data": {
      "image/png": "[encoded data removed]",
      "text/plain": [
       "<matplotlib.figure.Figure at 0x7f0feffff5c0>"
      ]
     },
     "metadata": {},
     "output_type": "display_data"
    }
   ],
   "source": [
    "max_rows = df.iloc[df.groupby(feature_col).idxmax()['result.test_acc'].astype(int)]\n",
    "max_rows.plot(y='result.test_acc', kind='bar', ylim=(0.95, 1))\n",
    "max_rows[['result.test_acc'] + feat_uniq_col + model_uniq_col]"
   ]
  },
  {
   "cell_type": "markdown",
   "metadata": {},
   "source": [
    "# The absolute best combination"
   ]
  },
  {
   "cell_type": "code",
   "execution_count": 274,
   "metadata": {
    "collapsed": false
   },
   "outputs": [
    {
     "data": {
      "text/html": [
       "<div>\n",
       "<table border=\"1\" class=\"dataframe\">\n",
       "  <thead>\n",
       "    <tr style=\"text-align: right;\">\n",
       "      <th></th>\n",
       "      <th>453</th>\n",
       "    </tr>\n",
       "  </thead>\n",
       "  <tbody>\n",
       "    <tr>\n",
       "      <th>feat.N</th>\n",
       "      <td>2</td>\n",
       "    </tr>\n",
       "    <tr>\n",
       "      <th>feat.data_path</th>\n",
       "      <td>/mnt/store/hlt/Language/Hungarian/Crawl/Web2/a...</td>\n",
       "    </tr>\n",
       "    <tr>\n",
       "      <th>feat.encoding</th>\n",
       "      <td>latin2</td>\n",
       "    </tr>\n",
       "    <tr>\n",
       "      <th>feat.include_smaller_ngrams</th>\n",
       "      <td>True</td>\n",
       "    </tr>\n",
       "    <tr>\n",
       "      <th>feat.last_char</th>\n",
       "      <td>6</td>\n",
       "    </tr>\n",
       "    <tr>\n",
       "      <th>feat.sample_per_class</th>\n",
       "      <td>30000</td>\n",
       "    </tr>\n",
       "    <tr>\n",
       "      <th>feat.tag_filter</th>\n",
       "      <td>('NOUN', 'VERB')</td>\n",
       "    </tr>\n",
       "    <tr>\n",
       "      <th>feat.use_padding</th>\n",
       "      <td>True</td>\n",
       "    </tr>\n",
       "    <tr>\n",
       "      <th>global.comment</th>\n",
       "      <td>include smaller ngrams - first experiments</td>\n",
       "    </tr>\n",
       "    <tr>\n",
       "      <th>global.nolog</th>\n",
       "      <td>False</td>\n",
       "    </tr>\n",
       "    <tr>\n",
       "      <th>global.train_test_split</th>\n",
       "      <td>0.9</td>\n",
       "    </tr>\n",
       "    <tr>\n",
       "      <th>model.activations</th>\n",
       "      <td>('sigmoid', 'sigmoid', 'sigmoid')</td>\n",
       "    </tr>\n",
       "    <tr>\n",
       "      <th>model.architecture</th>\n",
       "      <td>FFNN</td>\n",
       "    </tr>\n",
       "    <tr>\n",
       "      <th>model.batch_size</th>\n",
       "      <td>500</td>\n",
       "    </tr>\n",
       "    <tr>\n",
       "      <th>model.input_dim</th>\n",
       "      <td>5510</td>\n",
       "    </tr>\n",
       "    <tr>\n",
       "      <th>model.layers</th>\n",
       "      <td>(40, 40)</td>\n",
       "    </tr>\n",
       "    <tr>\n",
       "      <th>model.loss</th>\n",
       "      <td>binary_crossentropy</td>\n",
       "    </tr>\n",
       "    <tr>\n",
       "      <th>model.metrics</th>\n",
       "      <td>['accuracy']</td>\n",
       "    </tr>\n",
       "    <tr>\n",
       "      <th>model.nb_epoch</th>\n",
       "      <td>300</td>\n",
       "    </tr>\n",
       "    <tr>\n",
       "      <th>model.optimizer</th>\n",
       "      <td>rmsprop</td>\n",
       "    </tr>\n",
       "    <tr>\n",
       "      <th>model.output_dim</th>\n",
       "      <td>2</td>\n",
       "    </tr>\n",
       "    <tr>\n",
       "      <th>result.exception</th>\n",
       "      <td>NaN</td>\n",
       "    </tr>\n",
       "    <tr>\n",
       "      <th>result.feature_count</th>\n",
       "      <td>5510</td>\n",
       "    </tr>\n",
       "    <tr>\n",
       "      <th>result.running_time</th>\n",
       "      <td>0 days 00:06:35.295779</td>\n",
       "    </tr>\n",
       "    <tr>\n",
       "      <th>result.success</th>\n",
       "      <td>True</td>\n",
       "    </tr>\n",
       "    <tr>\n",
       "      <th>result.test_acc</th>\n",
       "      <td>0.985333</td>\n",
       "    </tr>\n",
       "    <tr>\n",
       "      <th>result.test_loss</th>\n",
       "      <td>0.0824637</td>\n",
       "    </tr>\n",
       "    <tr>\n",
       "      <th>result.test_sample_count</th>\n",
       "      <td>6000</td>\n",
       "    </tr>\n",
       "    <tr>\n",
       "      <th>result.timestamp</th>\n",
       "      <td>2016-11-28 21:19:13.535698</td>\n",
       "    </tr>\n",
       "    <tr>\n",
       "      <th>result.train_acc</th>\n",
       "      <td>0.996778</td>\n",
       "    </tr>\n",
       "    <tr>\n",
       "      <th>result.train_loss</th>\n",
       "      <td>0.01002</td>\n",
       "    </tr>\n",
       "    <tr>\n",
       "      <th>result.train_sample_count</th>\n",
       "      <td>54000</td>\n",
       "    </tr>\n",
       "  </tbody>\n",
       "</table>\n",
       "</div>"
      ],
      "text/plain": [
       "                                                                           453\n",
       "feat.N                                                                       2\n",
       "feat.data_path               /mnt/store/hlt/Language/Hungarian/Crawl/Web2/a...\n",
       "feat.encoding                                                           latin2\n",
       "feat.include_smaller_ngrams                                               True\n",
       "feat.last_char                                                               6\n",
       "feat.sample_per_class                                                    30000\n",
       "feat.tag_filter                                               ('NOUN', 'VERB')\n",
       "feat.use_padding                                                          True\n",
       "global.comment                      include smaller ngrams - first experiments\n",
       "global.nolog                                                             False\n",
       "global.train_test_split                                                    0.9\n",
       "model.activations                            ('sigmoid', 'sigmoid', 'sigmoid')\n",
       "model.architecture                                                        FFNN\n",
       "model.batch_size                                                           500\n",
       "model.input_dim                                                           5510\n",
       "model.layers                                                          (40, 40)\n",
       "model.loss                                                 binary_crossentropy\n",
       "model.metrics                                                     ['accuracy']\n",
       "model.nb_epoch                                                             300\n",
       "model.optimizer                                                        rmsprop\n",
       "model.output_dim                                                             2\n",
       "result.exception                                                           NaN\n",
       "result.feature_count                                                      5510\n",
       "result.running_time                                     0 days 00:06:35.295779\n",
       "result.success                                                            True\n",
       "result.test_acc                                                       0.985333\n",
       "result.test_loss                                                     0.0824637\n",
       "result.test_sample_count                                                  6000\n",
       "result.timestamp                                    2016-11-28 21:19:13.535698\n",
       "result.train_acc                                                      0.996778\n",
       "result.train_loss                                                      0.01002\n",
       "result.train_sample_count                                                54000"
      ]
     },
     "execution_count": 274,
     "metadata": {},
     "output_type": "execute_result"
    }
   ],
   "source": [
    "best = df.iloc[df['result.test_acc'].idxmax()].to_frame().sort_index()\n",
    "best"
   ]
  },
  {
   "cell_type": "code",
   "execution_count": 275,
   "metadata": {
    "collapsed": false
   },
   "outputs": [
    {
     "data": {
      "text/plain": [
       "500.0    8\n",
       "400.0    8\n",
       "300.0    8\n",
       "200.0    8\n",
       "100.0    8\n",
       "Name: model.nb_epoch, dtype: int64"
      ]
     },
     "execution_count": 275,
     "metadata": {},
     "output_type": "execute_result"
    }
   ],
   "source": [
    "df[df['feat.include_smaller_ngrams'] == True]['model.nb_epoch'].value_counts()"
   ]
  },
  {
   "cell_type": "code",
   "execution_count": 311,
   "metadata": {
    "collapsed": false
   },
   "outputs": [],
   "source": [
    "def find_same_rows(df, lhs, include):\n",
    "    filt = df\n",
    "    for col in df.columns:\n",
    "        if col in include:\n",
    "            filt = filt[filt[col] == lhs[col].values[0]]\n",
    "    return filt"
   ]
  },
  {
   "cell_type": "code",
   "execution_count": 312,
   "metadata": {
    "collapsed": false
   },
   "outputs": [],
   "source": [
    "filt = find_same_rows(df, best.transpose(), feat_uniq_col)"
   ]
  },
  {
   "cell_type": "code",
   "execution_count": 218,
   "metadata": {
    "collapsed": false
   },
   "outputs": [],
   "source": [
    "draw = False\n",
    "\n",
    "if draw:\n",
    "    f = df[df['feat.sample_per_class'] > 10000]\n",
    "    batches = df['model.batch_size'].unique()\n",
    "\n",
    "    for key, val in f.groupby(features):\n",
    "        for nb in batches:\n",
    "            filt = val[val['model.batch_size'] == nb]\n",
    "            if len(filt) == 0:\n",
    "                continue\n",
    "            if filt['result.test_acc'].max() < 0.95:\n",
    "                continue\n",
    "            filt = filt.groupby('model.nb_epoch').mean()\n",
    "            filt[filt['model.batch_size'] == nb].plot(y='result.test_acc', kind='bar',\n",
    "                                                    ylim=(.9, 1), title=\"Epoch: {}, last_char: {} Sample: {} N: {}\".format(\n",
    "                    nb, key[0], key[5], key[-1]))"
   ]
  },
  {
   "cell_type": "code",
   "execution_count": null,
   "metadata": {
    "collapsed": true
   },
   "outputs": [],
   "source": []
  }
 ],
 "metadata": {
  "kernelspec": {
   "display_name": "Python 3",
   "language": "python",
   "name": "python3"
  },
  "language_info": {
   "codemirror_mode": {
    "name": "ipython",
    "version": 3
   },
   "file_extension": ".py",
   "mimetype": "text/x-python",
   "name": "python",
   "nbconvert_exporter": "python",
   "pygments_lexer": "ipython3",
   "version": "3.4.2"
  }
 },
 "nbformat": 4,
 "nbformat_minor": 1
}
