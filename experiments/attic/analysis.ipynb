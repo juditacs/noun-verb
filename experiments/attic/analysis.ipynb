{
 "cells": [
  {
   "cell_type": "markdown",
   "metadata": {},
   "source": [
    "# Experiment analysis"
   ]
  },
  {
   "cell_type": "code",
   "execution_count": 59,
   "metadata": {
    "collapsed": false
   },
   "outputs": [],
   "source": [
    "import pandas as pd\n",
    "\n",
    "import matplotlib.pyplot as plt\n",
    "plt.style.use('ggplot')\n",
    "plt.rcParams['figure.figsize'] = (25, 13)\n",
    "plt.rcParams['font.family'] = 'sans-serif'\n",
    "plt.rcParams['font.size'] = 20\n",
    "%matplotlib inline"
   ]
  },
  {
   "cell_type": "code",
   "execution_count": 60,
   "metadata": {
    "collapsed": false
   },
   "outputs": [
    {
     "name": "stdout",
     "output_type": "stream",
     "text": [
      "Successful: 276\n",
      "Failed: 0\n"
     ]
    }
   ],
   "source": [
    "df = pd.read_table('new_results.tsv', sep='\\t')\n",
    "print(\"Successful: {}\\nFailed: {}\".format(len(df[df['result.success'] == True]), len(df[df['result.success'] == False])))"
   ]
  },
  {
   "cell_type": "code",
   "execution_count": 77,
   "metadata": {
    "collapsed": false
   },
   "outputs": [],
   "source": [
    "def get_unvarying_columns(df, prefix=None):\n",
    "    out_cols = []\n",
    "    filtered_cols = df.columns\n",
    "    if prefix is not None:\n",
    "        filtered_cols = filter(lambda x: x.startswith(prefix), filtered_cols)\n",
    "    for col in filtered_cols:\n",
    "        if df[col].unique().shape[0] < 2:\n",
    "            out_cols.append(col)\n",
    "    return out_cols\n",
    "\n",
    "#TODO remove if unused\n",
    "def get_varying_columns(df, prefix=None):\n",
    "    out_cols = []\n",
    "    filtered_cols = df.columns\n",
    "    if prefix is not None:\n",
    "        filtered_cols = filter(lambda x: x.startswith(prefix), filtered_cols)\n",
    "    for col in filtered_cols:\n",
    "        if df[col].unique().shape[0] > 1:\n",
    "            out_cols.append(col)\n",
    "    return out_cols\n",
    "\n",
    "def get_too_varying_columns(df, prefix=None, threshold=0.95):\n",
    "    out_cols = []\n",
    "    filtered_cols = df.columns\n",
    "    if prefix is not None:\n",
    "        filtered_cols = filter(lambda x: x.startswith(prefix), cols)\n",
    "    for col in filtered_cols:\n",
    "        uniq_vals = df[col].unique().shape[0]\n",
    "        if uniq_vals > threshold * len(df):\n",
    "            out_cols.append(col)\n",
    "    return out_cols"
   ]
  },
  {
   "cell_type": "markdown",
   "metadata": {},
   "source": [
    "# KR classification"
   ]
  },
  {
   "cell_type": "code",
   "execution_count": 62,
   "metadata": {
    "collapsed": false
   },
   "outputs": [
    {
     "data": {
      "text/plain": [
       "True    263\n",
       "Name: feat.include_smaller_ngrams, dtype: int64"
      ]
     },
     "execution_count": 62,
     "metadata": {},
     "output_type": "execute_result"
    }
   ],
   "source": [
    "kr = df[df['feat.data_path'].str.contains('xaa')]\n",
    "kr['feat.include_smaller_ngrams'].value_counts()"
   ]
  },
  {
   "cell_type": "code",
   "execution_count": 63,
   "metadata": {
    "collapsed": false
   },
   "outputs": [],
   "source": [
    "kr = kr.drop(get_unvarying_columns(kr), axis=1)"
   ]
  },
  {
   "cell_type": "code",
   "execution_count": 64,
   "metadata": {
    "collapsed": false
   },
   "outputs": [
    {
     "data": {
      "text/plain": [
       "True    263\n",
       "dtype: int64"
      ]
     },
     "execution_count": 64,
     "metadata": {},
     "output_type": "execute_result"
    }
   ],
   "source": [
    "(kr['model.output_dim'] == kr['result.class_no']).value_counts()"
   ]
  },
  {
   "cell_type": "code",
   "execution_count": 65,
   "metadata": {
    "collapsed": true
   },
   "outputs": [],
   "source": [
    "feat_cols = [\n",
    "    'feat.N',\n",
    "    'feat.grep_filter',\n",
    "    'feat.last_char',\n",
    "    'feat.sample_per_class',\n",
    "    'feat.tag_filter',\n",
    "    'model.layers',\n",
    "    'model.output_dim',\n",
    "]\n",
    "result_cols = [\n",
    "    'model.input_dim',\n",
    "    'model.output_dim',\n",
    "    'result.class_no',\n",
    "    'result.feature_count',\n",
    "    'result.running_time',\n",
    "    'result.test_acc',\n",
    "    'result.test_loss',\n",
    "    'result.test_sample_count',\n",
    "    'result.timestamp',\n",
    "    'result.train_acc',\n",
    "    'result.train_loss',\n",
    "    'result.train_sample_count',\n",
    "]"
   ]
  },
  {
   "cell_type": "code",
   "execution_count": 66,
   "metadata": {
    "collapsed": false
   },
   "outputs": [
    {
     "name": "stdout",
     "output_type": "stream",
     "text": [
      "52\n"
     ]
    },
    {
     "data": {
      "text/plain": [
       "52"
      ]
     },
     "execution_count": 66,
     "metadata": {},
     "output_type": "execute_result"
    }
   ],
   "source": [
    "print(len(kr.loc[kr.groupby(feat_cols).idxmax()['result.test_acc']]))\n",
    "len(kr.groupby(feat_cols).mean())"
   ]
  },
  {
   "cell_type": "markdown",
   "metadata": {},
   "source": [
    "## NOUN vs. VERB"
   ]
  },
  {
   "cell_type": "code",
   "execution_count": 67,
   "metadata": {
    "collapsed": false
   },
   "outputs": [],
   "source": [
    "exp1 = kr[kr['feat.tag_filter'] == \"('NOUN', 'VERB')\"].copy()"
   ]
  },
  {
   "cell_type": "code",
   "execution_count": 68,
   "metadata": {
    "collapsed": false
   },
   "outputs": [],
   "source": [
    "best = exp1.loc[exp1['result.test_acc'].idxmax()]"
   ]
  },
  {
   "cell_type": "code",
   "execution_count": 69,
   "metadata": {
    "collapsed": false
   },
   "outputs": [
    {
     "data": {
      "text/plain": [
       "<matplotlib.axes._subplots.AxesSubplot at 0x7ff0a4a7b470>"
      ]
     },
     "execution_count": 69,
     "metadata": {},
     "output_type": "execute_result"
    },
    {
     "data": {
      "image/png": "[encoded data removed]",
      "text/plain": [
       "<matplotlib.figure.Figure at 0x7ff0a4a47d30>"
      ]
     },
     "metadata": {},
     "output_type": "display_data"
    }
   ],
   "source": [
    "from functools import reduce\n",
    "\n",
    "def filter_similar(df, row, columns):\n",
    "    filt = reduce(lambda x, y: x & (df[y] == row[y]), columns, True)\n",
    "    return df[filt]\n",
    "\n",
    "filter_similar(exp1, best, ['feat.last_char']).plot(x='feat.N', y='result.test_acc', kind='bar')"
   ]
  },
  {
   "cell_type": "code",
   "execution_count": 70,
   "metadata": {
    "collapsed": false
   },
   "outputs": [
    {
     "data": {
      "text/html": [
       "<div>\n",
       "<table border=\"1\" class=\"dataframe\">\n",
       "  <thead>\n",
       "    <tr style=\"text-align: right;\">\n",
       "      <th></th>\n",
       "      <th>model.input_dim</th>\n",
       "      <th>feat.tag_filter</th>\n",
       "      <th>feat.last_char</th>\n",
       "      <th>model.layers</th>\n",
       "      <th>result.train_sample_count</th>\n",
       "      <th>result.feature_count</th>\n",
       "      <th>model.output_dim</th>\n",
       "      <th>result.test_sample_count</th>\n",
       "      <th>feat.max_lines</th>\n",
       "      <th>feat.sample_per_class</th>\n",
       "      <th>...</th>\n",
       "      <th>result.class_no</th>\n",
       "      <th>result.test_loss</th>\n",
       "      <th>model.loss</th>\n",
       "      <th>result.running_time</th>\n",
       "      <th>result.train_loss</th>\n",
       "      <th>result.timestamp</th>\n",
       "      <th>result.train_acc</th>\n",
       "      <th>global.comment</th>\n",
       "      <th>feat.grep_filter</th>\n",
       "      <th>feat.early_stopping</th>\n",
       "    </tr>\n",
       "    <tr>\n",
       "      <th>feat.N</th>\n",
       "      <th></th>\n",
       "      <th></th>\n",
       "      <th></th>\n",
       "      <th></th>\n",
       "      <th></th>\n",
       "      <th></th>\n",
       "      <th></th>\n",
       "      <th></th>\n",
       "      <th></th>\n",
       "      <th></th>\n",
       "      <th></th>\n",
       "      <th></th>\n",
       "      <th></th>\n",
       "      <th></th>\n",
       "      <th></th>\n",
       "      <th></th>\n",
       "      <th></th>\n",
       "      <th></th>\n",
       "      <th></th>\n",
       "      <th></th>\n",
       "      <th></th>\n",
       "    </tr>\n",
       "  </thead>\n",
       "  <tbody>\n",
       "    <tr>\n",
       "      <th>1.0</th>\n",
       "      <td>4</td>\n",
       "      <td>4</td>\n",
       "      <td>4</td>\n",
       "      <td>4</td>\n",
       "      <td>4</td>\n",
       "      <td>4</td>\n",
       "      <td>4</td>\n",
       "      <td>4</td>\n",
       "      <td>4</td>\n",
       "      <td>4</td>\n",
       "      <td>...</td>\n",
       "      <td>4</td>\n",
       "      <td>4</td>\n",
       "      <td>4</td>\n",
       "      <td>4</td>\n",
       "      <td>4</td>\n",
       "      <td>4</td>\n",
       "      <td>4</td>\n",
       "      <td>4</td>\n",
       "      <td>0</td>\n",
       "      <td>0</td>\n",
       "    </tr>\n",
       "    <tr>\n",
       "      <th>2.0</th>\n",
       "      <td>104</td>\n",
       "      <td>104</td>\n",
       "      <td>104</td>\n",
       "      <td>104</td>\n",
       "      <td>104</td>\n",
       "      <td>104</td>\n",
       "      <td>104</td>\n",
       "      <td>104</td>\n",
       "      <td>104</td>\n",
       "      <td>104</td>\n",
       "      <td>...</td>\n",
       "      <td>104</td>\n",
       "      <td>104</td>\n",
       "      <td>104</td>\n",
       "      <td>104</td>\n",
       "      <td>104</td>\n",
       "      <td>104</td>\n",
       "      <td>104</td>\n",
       "      <td>104</td>\n",
       "      <td>0</td>\n",
       "      <td>0</td>\n",
       "    </tr>\n",
       "    <tr>\n",
       "      <th>3.0</th>\n",
       "      <td>60</td>\n",
       "      <td>60</td>\n",
       "      <td>60</td>\n",
       "      <td>60</td>\n",
       "      <td>60</td>\n",
       "      <td>60</td>\n",
       "      <td>60</td>\n",
       "      <td>60</td>\n",
       "      <td>4</td>\n",
       "      <td>60</td>\n",
       "      <td>...</td>\n",
       "      <td>60</td>\n",
       "      <td>60</td>\n",
       "      <td>60</td>\n",
       "      <td>60</td>\n",
       "      <td>60</td>\n",
       "      <td>60</td>\n",
       "      <td>60</td>\n",
       "      <td>4</td>\n",
       "      <td>0</td>\n",
       "      <td>0</td>\n",
       "    </tr>\n",
       "  </tbody>\n",
       "</table>\n",
       "<p>3 rows × 21 columns</p>\n",
       "</div>"
      ],
      "text/plain": [
       "        model.input_dim  feat.tag_filter  feat.last_char  model.layers  \\\n",
       "feat.N                                                                   \n",
       "1.0                   4                4               4             4   \n",
       "2.0                 104              104             104           104   \n",
       "3.0                  60               60              60            60   \n",
       "\n",
       "        result.train_sample_count  result.feature_count  model.output_dim  \\\n",
       "feat.N                                                                      \n",
       "1.0                             4                     4                 4   \n",
       "2.0                           104                   104               104   \n",
       "3.0                            60                    60                60   \n",
       "\n",
       "        result.test_sample_count  feat.max_lines  feat.sample_per_class  \\\n",
       "feat.N                                                                    \n",
       "1.0                            4               4                      4   \n",
       "2.0                          104             104                    104   \n",
       "3.0                           60               4                     60   \n",
       "\n",
       "               ...           result.class_no  result.test_loss  model.loss  \\\n",
       "feat.N         ...                                                           \n",
       "1.0            ...                         4                 4           4   \n",
       "2.0            ...                       104               104         104   \n",
       "3.0            ...                        60                60          60   \n",
       "\n",
       "        result.running_time  result.train_loss  result.timestamp  \\\n",
       "feat.N                                                             \n",
       "1.0                       4                  4                 4   \n",
       "2.0                     104                104               104   \n",
       "3.0                      60                 60                60   \n",
       "\n",
       "        result.train_acc  global.comment  feat.grep_filter  \\\n",
       "feat.N                                                       \n",
       "1.0                    4               4                 0   \n",
       "2.0                  104             104                 0   \n",
       "3.0                   60               4                 0   \n",
       "\n",
       "        feat.early_stopping  \n",
       "feat.N                       \n",
       "1.0                       0  \n",
       "2.0                       0  \n",
       "3.0                       0  \n",
       "\n",
       "[3 rows x 21 columns]"
      ]
     },
     "execution_count": 70,
     "metadata": {},
     "output_type": "execute_result"
    }
   ],
   "source": [
    "exp1.groupby('feat.N').count()"
   ]
  },
  {
   "cell_type": "code",
   "execution_count": null,
   "metadata": {
    "collapsed": true
   },
   "outputs": [],
   "source": []
  },
  {
   "cell_type": "code",
   "execution_count": 71,
   "metadata": {
    "collapsed": false
   },
   "outputs": [],
   "source": [
    "exp1['model.layers'] = exp1['model.layers'].apply(lambda x: eval(x))"
   ]
  },
  {
   "cell_type": "code",
   "execution_count": 76,
   "metadata": {
    "collapsed": false
   },
   "outputs": [
    {
     "data": {
      "text/plain": [
       "model.input_dim                                   47941\n",
       "feat.tag_filter                        ('NOUN', 'VERB')\n",
       "feat.last_char                                        8\n",
       "model.layers                                   (40, 40)\n",
       "result.train_sample_count                         54000\n",
       "result.feature_count                              47941\n",
       "model.output_dim                                      2\n",
       "result.test_sample_count                           6000\n",
       "feat.max_lines                                    1e+07\n",
       "feat.sample_per_class                             30000\n",
       "result.test_acc                                0.965333\n",
       "result.class_no                                       2\n",
       "result.test_loss                               0.108409\n",
       "model.loss                          binary_crossentropy\n",
       "result.running_time              0 days 00:02:31.854565\n",
       "result.train_loss                             0.0496414\n",
       "result.timestamp             2016-12-14 01:13:29.380057\n",
       "result.train_acc                               0.983565\n",
       "feat.N                                                3\n",
       "global.comment                 correct validation ratio\n",
       "feat.grep_filter                                    NaN\n",
       "feat.early_stopping                                 NaN\n",
       "Name: 11, dtype: object"
      ]
     },
     "execution_count": 76,
     "metadata": {},
     "output_type": "execute_result"
    }
   ],
   "source": [
    "exp1.loc[11]"
   ]
  },
  {
   "cell_type": "code",
   "execution_count": 75,
   "metadata": {
    "collapsed": false
   },
   "outputs": [
    {
     "data": {
      "text/html": [
       "<div>\n",
       "<table border=\"1\" class=\"dataframe\">\n",
       "  <thead>\n",
       "    <tr style=\"text-align: right;\">\n",
       "      <th></th>\n",
       "      <th>model.layers</th>\n",
       "      <th>result.test_acc</th>\n",
       "    </tr>\n",
       "  </thead>\n",
       "  <tbody>\n",
       "    <tr>\n",
       "      <th>11</th>\n",
       "      <td>(40, 40)</td>\n",
       "      <td>0.965333</td>\n",
       "    </tr>\n",
       "    <tr>\n",
       "      <th>260</th>\n",
       "      <td>(50, 10)</td>\n",
       "      <td>0.964750</td>\n",
       "    </tr>\n",
       "    <tr>\n",
       "      <th>242</th>\n",
       "      <td>(30, 30)</td>\n",
       "      <td>0.964250</td>\n",
       "    </tr>\n",
       "    <tr>\n",
       "      <th>228</th>\n",
       "      <td>(10, 90)</td>\n",
       "      <td>0.963167</td>\n",
       "    </tr>\n",
       "    <tr>\n",
       "      <th>236</th>\n",
       "      <td>(20, 70)</td>\n",
       "      <td>0.961667</td>\n",
       "    </tr>\n",
       "    <tr>\n",
       "      <th>255</th>\n",
       "      <td>(40, 60)</td>\n",
       "      <td>0.961333</td>\n",
       "    </tr>\n",
       "    <tr>\n",
       "      <th>257</th>\n",
       "      <td>(40, 80)</td>\n",
       "      <td>0.961250</td>\n",
       "    </tr>\n",
       "    <tr>\n",
       "      <th>254</th>\n",
       "      <td>(40, 50)</td>\n",
       "      <td>0.961167</td>\n",
       "    </tr>\n",
       "    <tr>\n",
       "      <th>248</th>\n",
       "      <td>(30, 90)</td>\n",
       "      <td>0.960667</td>\n",
       "    </tr>\n",
       "    <tr>\n",
       "      <th>275</th>\n",
       "      <td>(60, 60)</td>\n",
       "      <td>0.960167</td>\n",
       "    </tr>\n",
       "    <tr>\n",
       "      <th>244</th>\n",
       "      <td>(30, 50)</td>\n",
       "      <td>0.960167</td>\n",
       "    </tr>\n",
       "    <tr>\n",
       "      <th>263</th>\n",
       "      <td>(50, 40)</td>\n",
       "      <td>0.960000</td>\n",
       "    </tr>\n",
       "    <tr>\n",
       "      <th>256</th>\n",
       "      <td>(40, 70)</td>\n",
       "      <td>0.960000</td>\n",
       "    </tr>\n",
       "    <tr>\n",
       "      <th>271</th>\n",
       "      <td>(60, 20)</td>\n",
       "      <td>0.960000</td>\n",
       "    </tr>\n",
       "    <tr>\n",
       "      <th>273</th>\n",
       "      <td>(60, 40)</td>\n",
       "      <td>0.960000</td>\n",
       "    </tr>\n",
       "    <tr>\n",
       "      <th>230</th>\n",
       "      <td>(20, 10)</td>\n",
       "      <td>0.959833</td>\n",
       "    </tr>\n",
       "    <tr>\n",
       "      <th>232</th>\n",
       "      <td>(20, 30)</td>\n",
       "      <td>0.959833</td>\n",
       "    </tr>\n",
       "    <tr>\n",
       "      <th>235</th>\n",
       "      <td>(20, 60)</td>\n",
       "      <td>0.959750</td>\n",
       "    </tr>\n",
       "    <tr>\n",
       "      <th>266</th>\n",
       "      <td>(50, 70)</td>\n",
       "      <td>0.959667</td>\n",
       "    </tr>\n",
       "    <tr>\n",
       "      <th>258</th>\n",
       "      <td>(40, 90)</td>\n",
       "      <td>0.959667</td>\n",
       "    </tr>\n",
       "    <tr>\n",
       "      <th>267</th>\n",
       "      <td>(50, 80)</td>\n",
       "      <td>0.959500</td>\n",
       "    </tr>\n",
       "    <tr>\n",
       "      <th>223</th>\n",
       "      <td>(10, 40)</td>\n",
       "      <td>0.959500</td>\n",
       "    </tr>\n",
       "    <tr>\n",
       "      <th>245</th>\n",
       "      <td>(30, 60)</td>\n",
       "      <td>0.959417</td>\n",
       "    </tr>\n",
       "    <tr>\n",
       "      <th>261</th>\n",
       "      <td>(50, 20)</td>\n",
       "      <td>0.959417</td>\n",
       "    </tr>\n",
       "    <tr>\n",
       "      <th>240</th>\n",
       "      <td>(30, 10)</td>\n",
       "      <td>0.959083</td>\n",
       "    </tr>\n",
       "    <tr>\n",
       "      <th>222</th>\n",
       "      <td>(10, 30)</td>\n",
       "      <td>0.959083</td>\n",
       "    </tr>\n",
       "    <tr>\n",
       "      <th>269</th>\n",
       "      <td>(50, 100)</td>\n",
       "      <td>0.958833</td>\n",
       "    </tr>\n",
       "    <tr>\n",
       "      <th>250</th>\n",
       "      <td>(40, 10)</td>\n",
       "      <td>0.958750</td>\n",
       "    </tr>\n",
       "    <tr>\n",
       "      <th>234</th>\n",
       "      <td>(20, 50)</td>\n",
       "      <td>0.958333</td>\n",
       "    </tr>\n",
       "    <tr>\n",
       "      <th>237</th>\n",
       "      <td>(20, 80)</td>\n",
       "      <td>0.958333</td>\n",
       "    </tr>\n",
       "    <tr>\n",
       "      <th>...</th>\n",
       "      <td>...</td>\n",
       "      <td>...</td>\n",
       "    </tr>\n",
       "    <tr>\n",
       "      <th>103</th>\n",
       "      <td>(100, 20)</td>\n",
       "      <td>0.933250</td>\n",
       "    </tr>\n",
       "    <tr>\n",
       "      <th>69</th>\n",
       "      <td>(60, 80)</td>\n",
       "      <td>0.932500</td>\n",
       "    </tr>\n",
       "    <tr>\n",
       "      <th>89</th>\n",
       "      <td>(80, 80)</td>\n",
       "      <td>0.932500</td>\n",
       "    </tr>\n",
       "    <tr>\n",
       "      <th>88</th>\n",
       "      <td>(80, 70)</td>\n",
       "      <td>0.932500</td>\n",
       "    </tr>\n",
       "    <tr>\n",
       "      <th>73</th>\n",
       "      <td>(70, 20)</td>\n",
       "      <td>0.932000</td>\n",
       "    </tr>\n",
       "    <tr>\n",
       "      <th>77</th>\n",
       "      <td>(70, 60)</td>\n",
       "      <td>0.931500</td>\n",
       "    </tr>\n",
       "    <tr>\n",
       "      <th>97</th>\n",
       "      <td>(90, 60)</td>\n",
       "      <td>0.931250</td>\n",
       "    </tr>\n",
       "    <tr>\n",
       "      <th>90</th>\n",
       "      <td>(80, 90)</td>\n",
       "      <td>0.931250</td>\n",
       "    </tr>\n",
       "    <tr>\n",
       "      <th>94</th>\n",
       "      <td>(90, 30)</td>\n",
       "      <td>0.931000</td>\n",
       "    </tr>\n",
       "    <tr>\n",
       "      <th>74</th>\n",
       "      <td>(70, 30)</td>\n",
       "      <td>0.930500</td>\n",
       "    </tr>\n",
       "    <tr>\n",
       "      <th>101</th>\n",
       "      <td>(90, 100)</td>\n",
       "      <td>0.930250</td>\n",
       "    </tr>\n",
       "    <tr>\n",
       "      <th>109</th>\n",
       "      <td>(100, 80)</td>\n",
       "      <td>0.930000</td>\n",
       "    </tr>\n",
       "    <tr>\n",
       "      <th>108</th>\n",
       "      <td>(100, 70)</td>\n",
       "      <td>0.930000</td>\n",
       "    </tr>\n",
       "    <tr>\n",
       "      <th>80</th>\n",
       "      <td>(70, 90)</td>\n",
       "      <td>0.929750</td>\n",
       "    </tr>\n",
       "    <tr>\n",
       "      <th>84</th>\n",
       "      <td>(80, 30)</td>\n",
       "      <td>0.929000</td>\n",
       "    </tr>\n",
       "    <tr>\n",
       "      <th>98</th>\n",
       "      <td>(90, 70)</td>\n",
       "      <td>0.927250</td>\n",
       "    </tr>\n",
       "    <tr>\n",
       "      <th>87</th>\n",
       "      <td>(80, 60)</td>\n",
       "      <td>0.927250</td>\n",
       "    </tr>\n",
       "    <tr>\n",
       "      <th>85</th>\n",
       "      <td>(80, 40)</td>\n",
       "      <td>0.927000</td>\n",
       "    </tr>\n",
       "    <tr>\n",
       "      <th>68</th>\n",
       "      <td>(60, 70)</td>\n",
       "      <td>0.926750</td>\n",
       "    </tr>\n",
       "    <tr>\n",
       "      <th>106</th>\n",
       "      <td>(100, 50)</td>\n",
       "      <td>0.926250</td>\n",
       "    </tr>\n",
       "    <tr>\n",
       "      <th>99</th>\n",
       "      <td>(90, 80)</td>\n",
       "      <td>0.926250</td>\n",
       "    </tr>\n",
       "    <tr>\n",
       "      <th>102</th>\n",
       "      <td>(100, 10)</td>\n",
       "      <td>0.926000</td>\n",
       "    </tr>\n",
       "    <tr>\n",
       "      <th>93</th>\n",
       "      <td>(90, 20)</td>\n",
       "      <td>0.926000</td>\n",
       "    </tr>\n",
       "    <tr>\n",
       "      <th>76</th>\n",
       "      <td>(70, 50)</td>\n",
       "      <td>0.925500</td>\n",
       "    </tr>\n",
       "    <tr>\n",
       "      <th>96</th>\n",
       "      <td>(90, 50)</td>\n",
       "      <td>0.925250</td>\n",
       "    </tr>\n",
       "    <tr>\n",
       "      <th>78</th>\n",
       "      <td>(70, 70)</td>\n",
       "      <td>0.925250</td>\n",
       "    </tr>\n",
       "    <tr>\n",
       "      <th>95</th>\n",
       "      <td>(90, 40)</td>\n",
       "      <td>0.924500</td>\n",
       "    </tr>\n",
       "    <tr>\n",
       "      <th>107</th>\n",
       "      <td>(100, 60)</td>\n",
       "      <td>0.923750</td>\n",
       "    </tr>\n",
       "    <tr>\n",
       "      <th>100</th>\n",
       "      <td>(90, 90)</td>\n",
       "      <td>0.921500</td>\n",
       "    </tr>\n",
       "    <tr>\n",
       "      <th>75</th>\n",
       "      <td>(70, 40)</td>\n",
       "      <td>0.919000</td>\n",
       "    </tr>\n",
       "  </tbody>\n",
       "</table>\n",
       "<p>100 rows × 2 columns</p>\n",
       "</div>"
      ],
      "text/plain": [
       "    model.layers  result.test_acc\n",
       "11      (40, 40)         0.965333\n",
       "260     (50, 10)         0.964750\n",
       "242     (30, 30)         0.964250\n",
       "228     (10, 90)         0.963167\n",
       "236     (20, 70)         0.961667\n",
       "255     (40, 60)         0.961333\n",
       "257     (40, 80)         0.961250\n",
       "254     (40, 50)         0.961167\n",
       "248     (30, 90)         0.960667\n",
       "275     (60, 60)         0.960167\n",
       "244     (30, 50)         0.960167\n",
       "263     (50, 40)         0.960000\n",
       "256     (40, 70)         0.960000\n",
       "271     (60, 20)         0.960000\n",
       "273     (60, 40)         0.960000\n",
       "230     (20, 10)         0.959833\n",
       "232     (20, 30)         0.959833\n",
       "235     (20, 60)         0.959750\n",
       "266     (50, 70)         0.959667\n",
       "258     (40, 90)         0.959667\n",
       "267     (50, 80)         0.959500\n",
       "223     (10, 40)         0.959500\n",
       "245     (30, 60)         0.959417\n",
       "261     (50, 20)         0.959417\n",
       "240     (30, 10)         0.959083\n",
       "222     (10, 30)         0.959083\n",
       "269    (50, 100)         0.958833\n",
       "250     (40, 10)         0.958750\n",
       "234     (20, 50)         0.958333\n",
       "237     (20, 80)         0.958333\n",
       "..           ...              ...\n",
       "103    (100, 20)         0.933250\n",
       "69      (60, 80)         0.932500\n",
       "89      (80, 80)         0.932500\n",
       "88      (80, 70)         0.932500\n",
       "73      (70, 20)         0.932000\n",
       "77      (70, 60)         0.931500\n",
       "97      (90, 60)         0.931250\n",
       "90      (80, 90)         0.931250\n",
       "94      (90, 30)         0.931000\n",
       "74      (70, 30)         0.930500\n",
       "101    (90, 100)         0.930250\n",
       "109    (100, 80)         0.930000\n",
       "108    (100, 70)         0.930000\n",
       "80      (70, 90)         0.929750\n",
       "84      (80, 30)         0.929000\n",
       "98      (90, 70)         0.927250\n",
       "87      (80, 60)         0.927250\n",
       "85      (80, 40)         0.927000\n",
       "68      (60, 70)         0.926750\n",
       "106    (100, 50)         0.926250\n",
       "99      (90, 80)         0.926250\n",
       "102    (100, 10)         0.926000\n",
       "93      (90, 20)         0.926000\n",
       "76      (70, 50)         0.925500\n",
       "96      (90, 50)         0.925250\n",
       "78      (70, 70)         0.925250\n",
       "95      (90, 40)         0.924500\n",
       "107    (100, 60)         0.923750\n",
       "100     (90, 90)         0.921500\n",
       "75      (70, 40)         0.919000\n",
       "\n",
       "[100 rows x 2 columns]"
      ]
     },
     "execution_count": 75,
     "metadata": {},
     "output_type": "execute_result"
    }
   ],
   "source": [
    "exp1.loc[exp1.groupby('model.layers')['result.test_acc'].idxmax()].sort_values('result.test_acc', ascending=False)[['model.layers', 'result.test_acc']]"
   ]
  },
  {
   "cell_type": "code",
   "execution_count": null,
   "metadata": {
    "collapsed": true
   },
   "outputs": [],
   "source": []
  },
  {
   "cell_type": "code",
   "execution_count": 6,
   "metadata": {
    "collapsed": false
   },
   "outputs": [
    {
     "data": {
      "text/html": [
       "<div>\n",
       "<table border=\"1\" class=\"dataframe\">\n",
       "  <thead>\n",
       "    <tr style=\"text-align: right;\">\n",
       "      <th></th>\n",
       "      <th>result.timestamp</th>\n",
       "      <th>result.running_time</th>\n",
       "      <th>feat.N</th>\n",
       "      <th>feat.last_char</th>\n",
       "      <th>feat.sample_per_class</th>\n",
       "      <th>model.layers</th>\n",
       "    </tr>\n",
       "  </thead>\n",
       "  <tbody>\n",
       "    <tr>\n",
       "      <th>197</th>\n",
       "      <td>2016-12-14 02:23:17.694010</td>\n",
       "      <td>0 days 00:00:30.390993</td>\n",
       "      <td>2.0</td>\n",
       "      <td>2.0</td>\n",
       "      <td>5454.545455</td>\n",
       "      <td>(40, 40)</td>\n",
       "    </tr>\n",
       "    <tr>\n",
       "      <th>198</th>\n",
       "      <td>2016-12-14 02:23:57.758302</td>\n",
       "      <td>0 days 00:00:39.608700</td>\n",
       "      <td>2.0</td>\n",
       "      <td>3.0</td>\n",
       "      <td>5454.545455</td>\n",
       "      <td>(40, 40)</td>\n",
       "    </tr>\n",
       "    <tr>\n",
       "      <th>199</th>\n",
       "      <td>2016-12-14 02:24:47.528679</td>\n",
       "      <td>0 days 00:00:39.246243</td>\n",
       "      <td>2.0</td>\n",
       "      <td>4.0</td>\n",
       "      <td>5454.545455</td>\n",
       "      <td>(40, 40)</td>\n",
       "    </tr>\n",
       "    <tr>\n",
       "      <th>200</th>\n",
       "      <td>2016-12-14 02:25:37.585989</td>\n",
       "      <td>0 days 00:00:50.048158</td>\n",
       "      <td>2.0</td>\n",
       "      <td>5.0</td>\n",
       "      <td>5454.545455</td>\n",
       "      <td>(40, 40)</td>\n",
       "    </tr>\n",
       "    <tr>\n",
       "      <th>201</th>\n",
       "      <td>2016-12-14 02:26:39.351286</td>\n",
       "      <td>0 days 00:00:48.251058</td>\n",
       "      <td>2.0</td>\n",
       "      <td>6.0</td>\n",
       "      <td>5454.545455</td>\n",
       "      <td>(40, 40)</td>\n",
       "    </tr>\n",
       "    <tr>\n",
       "      <th>202</th>\n",
       "      <td>2016-12-14 02:27:40.026763</td>\n",
       "      <td>0 days 00:00:49.867643</td>\n",
       "      <td>2.0</td>\n",
       "      <td>7.0</td>\n",
       "      <td>5454.545455</td>\n",
       "      <td>(40, 40)</td>\n",
       "    </tr>\n",
       "    <tr>\n",
       "      <th>203</th>\n",
       "      <td>2016-12-14 02:28:43.788076</td>\n",
       "      <td>0 days 00:00:46.351189</td>\n",
       "      <td>2.0</td>\n",
       "      <td>8.0</td>\n",
       "      <td>5454.545455</td>\n",
       "      <td>(40, 40)</td>\n",
       "    </tr>\n",
       "    <tr>\n",
       "      <th>204</th>\n",
       "      <td>2016-12-14 02:29:49.535301</td>\n",
       "      <td>0 days 00:00:22.439145</td>\n",
       "      <td>3.0</td>\n",
       "      <td>3.0</td>\n",
       "      <td>30000.000000</td>\n",
       "      <td>(40, 40)</td>\n",
       "    </tr>\n",
       "    <tr>\n",
       "      <th>205</th>\n",
       "      <td>2016-12-14 02:30:29.237181</td>\n",
       "      <td>0 days 00:00:36.101149</td>\n",
       "      <td>3.0</td>\n",
       "      <td>3.0</td>\n",
       "      <td>30000.000000</td>\n",
       "      <td>(40, 40)</td>\n",
       "    </tr>\n",
       "    <tr>\n",
       "      <th>206</th>\n",
       "      <td>2016-12-14 02:31:22.725819</td>\n",
       "      <td>0 days 00:00:34.764778</td>\n",
       "      <td>3.0</td>\n",
       "      <td>3.0</td>\n",
       "      <td>30000.000000</td>\n",
       "      <td>(40, 40)</td>\n",
       "    </tr>\n",
       "  </tbody>\n",
       "</table>\n",
       "</div>"
      ],
      "text/plain": [
       "               result.timestamp     result.running_time  feat.N  \\\n",
       "197  2016-12-14 02:23:17.694010  0 days 00:00:30.390993     2.0   \n",
       "198  2016-12-14 02:23:57.758302  0 days 00:00:39.608700     2.0   \n",
       "199  2016-12-14 02:24:47.528679  0 days 00:00:39.246243     2.0   \n",
       "200  2016-12-14 02:25:37.585989  0 days 00:00:50.048158     2.0   \n",
       "201  2016-12-14 02:26:39.351286  0 days 00:00:48.251058     2.0   \n",
       "202  2016-12-14 02:27:40.026763  0 days 00:00:49.867643     2.0   \n",
       "203  2016-12-14 02:28:43.788076  0 days 00:00:46.351189     2.0   \n",
       "204  2016-12-14 02:29:49.535301  0 days 00:00:22.439145     3.0   \n",
       "205  2016-12-14 02:30:29.237181  0 days 00:00:36.101149     3.0   \n",
       "206  2016-12-14 02:31:22.725819  0 days 00:00:34.764778     3.0   \n",
       "\n",
       "     feat.last_char  feat.sample_per_class model.layers  \n",
       "197             2.0            5454.545455     (40, 40)  \n",
       "198             3.0            5454.545455     (40, 40)  \n",
       "199             4.0            5454.545455     (40, 40)  \n",
       "200             5.0            5454.545455     (40, 40)  \n",
       "201             6.0            5454.545455     (40, 40)  \n",
       "202             7.0            5454.545455     (40, 40)  \n",
       "203             8.0            5454.545455     (40, 40)  \n",
       "204             3.0           30000.000000     (40, 40)  \n",
       "205             3.0           30000.000000     (40, 40)  \n",
       "206             3.0           30000.000000     (40, 40)  "
      ]
     },
     "execution_count": 6,
     "metadata": {},
     "output_type": "execute_result"
    }
   ],
   "source": [
    "df[-10:][['result.timestamp', 'result.running_time',\n",
    "          'feat.N', 'feat.last_char', 'feat.sample_per_class', 'model.layers']]"
   ]
  },
  {
   "cell_type": "code",
   "execution_count": 7,
   "metadata": {
    "collapsed": false
   },
   "outputs": [
    {
     "data": {
      "text/html": [
       "<div>\n",
       "<table border=\"1\" class=\"dataframe\">\n",
       "  <thead>\n",
       "    <tr style=\"text-align: right;\">\n",
       "      <th></th>\n",
       "      <th>result.test_acc</th>\n",
       "      <th>feat.grep_filter</th>\n",
       "      <th>feat.N</th>\n",
       "      <th>feat.last_char</th>\n",
       "      <th>feat.sample_per_class</th>\n",
       "      <th>model.layers</th>\n",
       "    </tr>\n",
       "  </thead>\n",
       "  <tbody>\n",
       "    <tr>\n",
       "      <th>10</th>\n",
       "      <td>0.963667</td>\n",
       "      <td>NaN</td>\n",
       "      <td>3.0</td>\n",
       "      <td>7.0</td>\n",
       "      <td>30000.0</td>\n",
       "      <td>(40, 40)</td>\n",
       "    </tr>\n",
       "    <tr>\n",
       "      <th>9</th>\n",
       "      <td>0.964000</td>\n",
       "      <td>NaN</td>\n",
       "      <td>3.0</td>\n",
       "      <td>6.0</td>\n",
       "      <td>30000.0</td>\n",
       "      <td>(40, 40)</td>\n",
       "    </tr>\n",
       "    <tr>\n",
       "      <th>11</th>\n",
       "      <td>0.965333</td>\n",
       "      <td>NaN</td>\n",
       "      <td>3.0</td>\n",
       "      <td>8.0</td>\n",
       "      <td>30000.0</td>\n",
       "      <td>(40, 40)</td>\n",
       "    </tr>\n",
       "    <tr>\n",
       "      <th>205</th>\n",
       "      <td>0.971523</td>\n",
       "      <td>NaN</td>\n",
       "      <td>3.0</td>\n",
       "      <td>3.0</td>\n",
       "      <td>30000.0</td>\n",
       "      <td>(40, 40)</td>\n",
       "    </tr>\n",
       "    <tr>\n",
       "      <th>204</th>\n",
       "      <td>0.972889</td>\n",
       "      <td>NaN</td>\n",
       "      <td>3.0</td>\n",
       "      <td>3.0</td>\n",
       "      <td>30000.0</td>\n",
       "      <td>(40, 40)</td>\n",
       "    </tr>\n",
       "    <tr>\n",
       "      <th>206</th>\n",
       "      <td>0.976594</td>\n",
       "      <td>NaN</td>\n",
       "      <td>3.0</td>\n",
       "      <td>3.0</td>\n",
       "      <td>30000.0</td>\n",
       "      <td>(40, 40)</td>\n",
       "    </tr>\n",
       "    <tr>\n",
       "      <th>153</th>\n",
       "      <td>0.983908</td>\n",
       "      <td>NaN</td>\n",
       "      <td>1.0</td>\n",
       "      <td>7.0</td>\n",
       "      <td>30000.0</td>\n",
       "      <td>(40, 40)</td>\n",
       "    </tr>\n",
       "    <tr>\n",
       "      <th>151</th>\n",
       "      <td>0.984893</td>\n",
       "      <td>NaN</td>\n",
       "      <td>1.0</td>\n",
       "      <td>5.0</td>\n",
       "      <td>30000.0</td>\n",
       "      <td>(40, 40)</td>\n",
       "    </tr>\n",
       "    <tr>\n",
       "      <th>155</th>\n",
       "      <td>0.985057</td>\n",
       "      <td>NaN</td>\n",
       "      <td>2.0</td>\n",
       "      <td>2.0</td>\n",
       "      <td>30000.0</td>\n",
       "      <td>(40, 40)</td>\n",
       "    </tr>\n",
       "    <tr>\n",
       "      <th>158</th>\n",
       "      <td>0.985878</td>\n",
       "      <td>NaN</td>\n",
       "      <td>2.0</td>\n",
       "      <td>5.0</td>\n",
       "      <td>30000.0</td>\n",
       "      <td>(40, 40)</td>\n",
       "    </tr>\n",
       "    <tr>\n",
       "      <th>148</th>\n",
       "      <td>0.986535</td>\n",
       "      <td>NaN</td>\n",
       "      <td>1.0</td>\n",
       "      <td>2.0</td>\n",
       "      <td>30000.0</td>\n",
       "      <td>(40, 40)</td>\n",
       "    </tr>\n",
       "    <tr>\n",
       "      <th>149</th>\n",
       "      <td>0.987521</td>\n",
       "      <td>NaN</td>\n",
       "      <td>1.0</td>\n",
       "      <td>3.0</td>\n",
       "      <td>30000.0</td>\n",
       "      <td>(40, 40)</td>\n",
       "    </tr>\n",
       "    <tr>\n",
       "      <th>157</th>\n",
       "      <td>0.987849</td>\n",
       "      <td>NaN</td>\n",
       "      <td>2.0</td>\n",
       "      <td>4.0</td>\n",
       "      <td>30000.0</td>\n",
       "      <td>(40, 40)</td>\n",
       "    </tr>\n",
       "    <tr>\n",
       "      <th>161</th>\n",
       "      <td>0.987849</td>\n",
       "      <td>NaN</td>\n",
       "      <td>2.0</td>\n",
       "      <td>8.0</td>\n",
       "      <td>30000.0</td>\n",
       "      <td>(40, 40)</td>\n",
       "    </tr>\n",
       "    <tr>\n",
       "      <th>154</th>\n",
       "      <td>0.989163</td>\n",
       "      <td>NaN</td>\n",
       "      <td>1.0</td>\n",
       "      <td>8.0</td>\n",
       "      <td>30000.0</td>\n",
       "      <td>(40, 40)</td>\n",
       "    </tr>\n",
       "    <tr>\n",
       "      <th>156</th>\n",
       "      <td>0.989491</td>\n",
       "      <td>NaN</td>\n",
       "      <td>2.0</td>\n",
       "      <td>3.0</td>\n",
       "      <td>30000.0</td>\n",
       "      <td>(40, 40)</td>\n",
       "    </tr>\n",
       "    <tr>\n",
       "      <th>160</th>\n",
       "      <td>0.989655</td>\n",
       "      <td>NaN</td>\n",
       "      <td>2.0</td>\n",
       "      <td>7.0</td>\n",
       "      <td>30000.0</td>\n",
       "      <td>(40, 40)</td>\n",
       "    </tr>\n",
       "    <tr>\n",
       "      <th>152</th>\n",
       "      <td>0.990148</td>\n",
       "      <td>NaN</td>\n",
       "      <td>1.0</td>\n",
       "      <td>6.0</td>\n",
       "      <td>30000.0</td>\n",
       "      <td>(40, 40)</td>\n",
       "    </tr>\n",
       "    <tr>\n",
       "      <th>159</th>\n",
       "      <td>0.990805</td>\n",
       "      <td>NaN</td>\n",
       "      <td>2.0</td>\n",
       "      <td>6.0</td>\n",
       "      <td>30000.0</td>\n",
       "      <td>(40, 40)</td>\n",
       "    </tr>\n",
       "    <tr>\n",
       "      <th>150</th>\n",
       "      <td>0.990805</td>\n",
       "      <td>NaN</td>\n",
       "      <td>1.0</td>\n",
       "      <td>4.0</td>\n",
       "      <td>30000.0</td>\n",
       "      <td>(40, 40)</td>\n",
       "    </tr>\n",
       "  </tbody>\n",
       "</table>\n",
       "</div>"
      ],
      "text/plain": [
       "     result.test_acc feat.grep_filter  feat.N  feat.last_char  \\\n",
       "10          0.963667              NaN     3.0             7.0   \n",
       "9           0.964000              NaN     3.0             6.0   \n",
       "11          0.965333              NaN     3.0             8.0   \n",
       "205         0.971523              NaN     3.0             3.0   \n",
       "204         0.972889              NaN     3.0             3.0   \n",
       "206         0.976594              NaN     3.0             3.0   \n",
       "153         0.983908              NaN     1.0             7.0   \n",
       "151         0.984893              NaN     1.0             5.0   \n",
       "155         0.985057              NaN     2.0             2.0   \n",
       "158         0.985878              NaN     2.0             5.0   \n",
       "148         0.986535              NaN     1.0             2.0   \n",
       "149         0.987521              NaN     1.0             3.0   \n",
       "157         0.987849              NaN     2.0             4.0   \n",
       "161         0.987849              NaN     2.0             8.0   \n",
       "154         0.989163              NaN     1.0             8.0   \n",
       "156         0.989491              NaN     2.0             3.0   \n",
       "160         0.989655              NaN     2.0             7.0   \n",
       "152         0.990148              NaN     1.0             6.0   \n",
       "159         0.990805              NaN     2.0             6.0   \n",
       "150         0.990805              NaN     1.0             4.0   \n",
       "\n",
       "     feat.sample_per_class model.layers  \n",
       "10                 30000.0     (40, 40)  \n",
       "9                  30000.0     (40, 40)  \n",
       "11                 30000.0     (40, 40)  \n",
       "205                30000.0     (40, 40)  \n",
       "204                30000.0     (40, 40)  \n",
       "206                30000.0     (40, 40)  \n",
       "153                30000.0     (40, 40)  \n",
       "151                30000.0     (40, 40)  \n",
       "155                30000.0     (40, 40)  \n",
       "158                30000.0     (40, 40)  \n",
       "148                30000.0     (40, 40)  \n",
       "149                30000.0     (40, 40)  \n",
       "157                30000.0     (40, 40)  \n",
       "161                30000.0     (40, 40)  \n",
       "154                30000.0     (40, 40)  \n",
       "156                30000.0     (40, 40)  \n",
       "160                30000.0     (40, 40)  \n",
       "152                30000.0     (40, 40)  \n",
       "159                30000.0     (40, 40)  \n",
       "150                30000.0     (40, 40)  "
      ]
     },
     "execution_count": 7,
     "metadata": {},
     "output_type": "execute_result"
    }
   ],
   "source": [
    "d = df[-300:][['result.test_acc', 'feat.grep_filter',\n",
    "          'feat.N', 'feat.last_char', 'feat.sample_per_class', 'model.layers']]\n",
    "d[d['feat.grep_filter'].isnull()].sort_values('result.test_acc').tail(20 )"
   ]
  },
  {
   "cell_type": "code",
   "execution_count": 39,
   "metadata": {
    "collapsed": false
   },
   "outputs": [
    {
     "data": {
      "text/html": [
       "<div>\n",
       "<table border=\"1\" class=\"dataframe\">\n",
       "  <thead>\n",
       "    <tr style=\"text-align: right;\">\n",
       "      <th></th>\n",
       "      <th>result.test_acc</th>\n",
       "      <th>feat.N</th>\n",
       "      <th>feat.last_char</th>\n",
       "      <th>feat.sample_per_class</th>\n",
       "      <th>model.nb_epoch</th>\n",
       "      <th>result.running_time</th>\n",
       "    </tr>\n",
       "  </thead>\n",
       "  <tbody>\n",
       "    <tr>\n",
       "      <th>135</th>\n",
       "      <td>0.999165</td>\n",
       "      <td>2.0</td>\n",
       "      <td>7.0</td>\n",
       "      <td>15000.0</td>\n",
       "      <td>300.0</td>\n",
       "      <td>0 days 00:00:12.964866</td>\n",
       "    </tr>\n",
       "    <tr>\n",
       "      <th>133</th>\n",
       "      <td>0.998329</td>\n",
       "      <td>2.0</td>\n",
       "      <td>5.0</td>\n",
       "      <td>15000.0</td>\n",
       "      <td>300.0</td>\n",
       "      <td>0 days 00:00:09.159610</td>\n",
       "    </tr>\n",
       "    <tr>\n",
       "      <th>134</th>\n",
       "      <td>0.998329</td>\n",
       "      <td>2.0</td>\n",
       "      <td>6.0</td>\n",
       "      <td>15000.0</td>\n",
       "      <td>300.0</td>\n",
       "      <td>0 days 00:00:10.887326</td>\n",
       "    </tr>\n",
       "    <tr>\n",
       "      <th>122</th>\n",
       "      <td>0.998135</td>\n",
       "      <td>2.0</td>\n",
       "      <td>6.0</td>\n",
       "      <td>15000.0</td>\n",
       "      <td>300.0</td>\n",
       "      <td>0 days 00:00:20.995107</td>\n",
       "    </tr>\n",
       "    <tr>\n",
       "      <th>121</th>\n",
       "      <td>0.997715</td>\n",
       "      <td>2.0</td>\n",
       "      <td>5.0</td>\n",
       "      <td>15000.0</td>\n",
       "      <td>300.0</td>\n",
       "      <td>0 days 00:00:24.476402</td>\n",
       "    </tr>\n",
       "  </tbody>\n",
       "</table>\n",
       "</div>"
      ],
      "text/plain": [
       "     result.test_acc  feat.N  feat.last_char  feat.sample_per_class  \\\n",
       "135         0.999165     2.0             7.0                15000.0   \n",
       "133         0.998329     2.0             5.0                15000.0   \n",
       "134         0.998329     2.0             6.0                15000.0   \n",
       "122         0.998135     2.0             6.0                15000.0   \n",
       "121         0.997715     2.0             5.0                15000.0   \n",
       "\n",
       "     model.nb_epoch     result.running_time  \n",
       "135           300.0  0 days 00:00:12.964866  \n",
       "133           300.0  0 days 00:00:09.159610  \n",
       "134           300.0  0 days 00:00:10.887326  \n",
       "122           300.0  0 days 00:00:20.995107  \n",
       "121           300.0  0 days 00:00:24.476402  "
      ]
     },
     "execution_count": 39,
     "metadata": {},
     "output_type": "execute_result"
    }
   ],
   "source": [
    "params = ['feat.N', 'feat.last_char', 'feat.sample_per_class', 'model.nb_epoch', 'result.running_time']\n",
    "df[df['model.early_stopping'] == True].sort_values('result.test_acc', ascending=False)[['result.test_acc'] + params].head()"
   ]
  },
  {
   "cell_type": "markdown",
   "metadata": {},
   "source": [
    "# Adding extra columns"
   ]
  },
  {
   "cell_type": "code",
   "execution_count": 10,
   "metadata": {
    "collapsed": false
   },
   "outputs": [],
   "source": [
    "df['feat.tag_filter_len'] = df['feat.tag_filter'].apply(lambda x: None if type(x) is float else len(eval(x)))\n",
    "df['feat.grep_filter_len'] = df['feat.grep_filter'].apply(lambda x: None if type(x) is float else len(eval(x)))"
   ]
  },
  {
   "cell_type": "markdown",
   "metadata": {},
   "source": [
    "# NOUN vs. VERB experiments"
   ]
  },
  {
   "cell_type": "code",
   "execution_count": 11,
   "metadata": {
    "collapsed": false
   },
   "outputs": [
    {
     "data": {
      "text/plain": [
       "112"
      ]
     },
     "execution_count": 11,
     "metadata": {},
     "output_type": "execute_result"
    }
   ],
   "source": [
    "exp1 = df[(df['feat.tag_filter_len'] == 2) & (df['feat.tag_filter'].str.contains(\"NOUN\")) & \n",
    "          (df['feat.tag_filter'].str.contains(\"VERB\"))]\n",
    "len(exp1)"
   ]
  },
  {
   "cell_type": "code",
   "execution_count": 12,
   "metadata": {
    "collapsed": false
   },
   "outputs": [
    {
     "data": {
      "text/html": [
       "<div>\n",
       "<table border=\"1\" class=\"dataframe\">\n",
       "  <thead>\n",
       "    <tr style=\"text-align: right;\">\n",
       "      <th></th>\n",
       "      <th>11</th>\n",
       "    </tr>\n",
       "  </thead>\n",
       "  <tbody>\n",
       "    <tr>\n",
       "      <th>feat.N</th>\n",
       "      <td>3</td>\n",
       "    </tr>\n",
       "    <tr>\n",
       "      <th>feat.data_path</th>\n",
       "      <td>/mnt/store/hlt/Language/Hungarian/Crawl/Web2/a...</td>\n",
       "    </tr>\n",
       "    <tr>\n",
       "      <th>feat.encoding</th>\n",
       "      <td>latin2</td>\n",
       "    </tr>\n",
       "    <tr>\n",
       "      <th>feat.include_smaller_ngrams</th>\n",
       "      <td>True</td>\n",
       "    </tr>\n",
       "    <tr>\n",
       "      <th>feat.last_char</th>\n",
       "      <td>8</td>\n",
       "    </tr>\n",
       "    <tr>\n",
       "      <th>feat.max_lines</th>\n",
       "      <td>1e+07</td>\n",
       "    </tr>\n",
       "    <tr>\n",
       "      <th>feat.sample_per_class</th>\n",
       "      <td>30000</td>\n",
       "    </tr>\n",
       "    <tr>\n",
       "      <th>feat.tag_filter</th>\n",
       "      <td>('NOUN', 'VERB')</td>\n",
       "    </tr>\n",
       "    <tr>\n",
       "      <th>feat.tag_filter_len</th>\n",
       "      <td>2</td>\n",
       "    </tr>\n",
       "    <tr>\n",
       "      <th>feat.uniq_lines</th>\n",
       "      <td>True</td>\n",
       "    </tr>\n",
       "    <tr>\n",
       "      <th>feat.use_padding</th>\n",
       "      <td>True</td>\n",
       "    </tr>\n",
       "    <tr>\n",
       "      <th>global.comment</th>\n",
       "      <td>correct validation ratio</td>\n",
       "    </tr>\n",
       "    <tr>\n",
       "      <th>global.nolog</th>\n",
       "      <td>False</td>\n",
       "    </tr>\n",
       "    <tr>\n",
       "      <th>global.train_test_split</th>\n",
       "      <td>0.9</td>\n",
       "    </tr>\n",
       "    <tr>\n",
       "      <th>model.activations</th>\n",
       "      <td>('sigmoid', 'sigmoid', 'sigmoid')</td>\n",
       "    </tr>\n",
       "    <tr>\n",
       "      <th>model.architecture</th>\n",
       "      <td>FFNN</td>\n",
       "    </tr>\n",
       "    <tr>\n",
       "      <th>model.batch_size</th>\n",
       "      <td>500</td>\n",
       "    </tr>\n",
       "    <tr>\n",
       "      <th>model.early_stopping</th>\n",
       "      <td>True</td>\n",
       "    </tr>\n",
       "    <tr>\n",
       "      <th>model.input_dim</th>\n",
       "      <td>47941</td>\n",
       "    </tr>\n",
       "    <tr>\n",
       "      <th>model.layers</th>\n",
       "      <td>(40, 40)</td>\n",
       "    </tr>\n",
       "    <tr>\n",
       "      <th>model.loss</th>\n",
       "      <td>binary_crossentropy</td>\n",
       "    </tr>\n",
       "    <tr>\n",
       "      <th>model.metrics</th>\n",
       "      <td>['accuracy']</td>\n",
       "    </tr>\n",
       "    <tr>\n",
       "      <th>model.nb_epoch</th>\n",
       "      <td>300</td>\n",
       "    </tr>\n",
       "    <tr>\n",
       "      <th>model.optimizer</th>\n",
       "      <td>rmsprop</td>\n",
       "    </tr>\n",
       "    <tr>\n",
       "      <th>model.output_dim</th>\n",
       "      <td>2</td>\n",
       "    </tr>\n",
       "    <tr>\n",
       "      <th>result.class_no</th>\n",
       "      <td>2</td>\n",
       "    </tr>\n",
       "    <tr>\n",
       "      <th>result.feature_count</th>\n",
       "      <td>47941</td>\n",
       "    </tr>\n",
       "    <tr>\n",
       "      <th>result.running_time</th>\n",
       "      <td>0 days 00:02:31.854565</td>\n",
       "    </tr>\n",
       "    <tr>\n",
       "      <th>result.success</th>\n",
       "      <td>True</td>\n",
       "    </tr>\n",
       "    <tr>\n",
       "      <th>result.test_acc</th>\n",
       "      <td>0.965333</td>\n",
       "    </tr>\n",
       "    <tr>\n",
       "      <th>result.test_loss</th>\n",
       "      <td>0.108409</td>\n",
       "    </tr>\n",
       "    <tr>\n",
       "      <th>result.test_sample_count</th>\n",
       "      <td>6000</td>\n",
       "    </tr>\n",
       "    <tr>\n",
       "      <th>result.timestamp</th>\n",
       "      <td>2016-12-14 01:13:29.380057</td>\n",
       "    </tr>\n",
       "    <tr>\n",
       "      <th>result.train_acc</th>\n",
       "      <td>0.983565</td>\n",
       "    </tr>\n",
       "    <tr>\n",
       "      <th>result.train_loss</th>\n",
       "      <td>0.0496414</td>\n",
       "    </tr>\n",
       "    <tr>\n",
       "      <th>result.train_sample_count</th>\n",
       "      <td>54000</td>\n",
       "    </tr>\n",
       "  </tbody>\n",
       "</table>\n",
       "</div>"
      ],
      "text/plain": [
       "                                                                            11\n",
       "feat.N                                                                       3\n",
       "feat.data_path               /mnt/store/hlt/Language/Hungarian/Crawl/Web2/a...\n",
       "feat.encoding                                                           latin2\n",
       "feat.include_smaller_ngrams                                               True\n",
       "feat.last_char                                                               8\n",
       "feat.max_lines                                                           1e+07\n",
       "feat.sample_per_class                                                    30000\n",
       "feat.tag_filter                                               ('NOUN', 'VERB')\n",
       "feat.tag_filter_len                                                          2\n",
       "feat.uniq_lines                                                           True\n",
       "feat.use_padding                                                          True\n",
       "global.comment                                        correct validation ratio\n",
       "global.nolog                                                             False\n",
       "global.train_test_split                                                    0.9\n",
       "model.activations                            ('sigmoid', 'sigmoid', 'sigmoid')\n",
       "model.architecture                                                        FFNN\n",
       "model.batch_size                                                           500\n",
       "model.early_stopping                                                      True\n",
       "model.input_dim                                                          47941\n",
       "model.layers                                                          (40, 40)\n",
       "model.loss                                                 binary_crossentropy\n",
       "model.metrics                                                     ['accuracy']\n",
       "model.nb_epoch                                                             300\n",
       "model.optimizer                                                        rmsprop\n",
       "model.output_dim                                                             2\n",
       "result.class_no                                                              2\n",
       "result.feature_count                                                     47941\n",
       "result.running_time                                     0 days 00:02:31.854565\n",
       "result.success                                                            True\n",
       "result.test_acc                                                       0.965333\n",
       "result.test_loss                                                      0.108409\n",
       "result.test_sample_count                                                  6000\n",
       "result.timestamp                                    2016-12-14 01:13:29.380057\n",
       "result.train_acc                                                      0.983565\n",
       "result.train_loss                                                    0.0496414\n",
       "result.train_sample_count                                                54000"
      ]
     },
     "execution_count": 12,
     "metadata": {},
     "output_type": "execute_result"
    }
   ],
   "source": [
    "exp1['feat.sample_per_class'].value_counts()\n",
    "exp1.loc[exp1['result.test_acc'].idxmax()].to_frame().dropna().sort_index()"
   ]
  },
  {
   "cell_type": "code",
   "execution_count": 13,
   "metadata": {
    "collapsed": false
   },
   "outputs": [
    {
     "name": "stdout",
     "output_type": "stream",
     "text": [
      "1\n"
     ]
    },
    {
     "data": {
      "text/plain": [
       "<matplotlib.axes._subplots.AxesSubplot at 0x7f236f37f0f0>"
      ]
     },
     "execution_count": 13,
     "metadata": {},
     "output_type": "execute_result"
    },
    {
     "data": {
      "image/png": "[encoded data removed]",
      "text/plain": [
       "<matplotlib.figure.Figure at 0x7f236f387390>"
      ]
     },
     "metadata": {},
     "output_type": "display_data"
    }
   ],
   "source": [
    "from functools import reduce\n",
    "\n",
    "best_config = exp1[\n",
    "    (exp1['feat.last_char'] == 6) &\n",
    "    (exp1['feat.N'] == 2) &\n",
    "    (exp1['feat.include_smaller_ngrams'] == True) &\n",
    "    (exp1['feat.sample_per_class'] == 30000) &\n",
    "    (exp1['model.batch_size'] == 500) &\n",
    "    (exp1['model.layers'] == '(40, 40)') &\n",
    "    (exp1['model.optimizer'] == 'rmsprop') &\n",
    "    (exp1['model.activations'] == \"('sigmoid', 'sigmoid', 'sigmoid')\")\n",
    "     #&(exp1['feat.uniq_lines'] == True)\n",
    "]\n",
    "print(len(best_config))\n",
    "best_config.sort_values('model.nb_epoch').plot(x='model.nb_epoch', y='result.test_acc', kind='bar', ylim=(.90, 1))\n",
    "#best_config[best_config['model.nb_epoch'] == 300]"
   ]
  },
  {
   "cell_type": "code",
   "execution_count": 14,
   "metadata": {
    "collapsed": false
   },
   "outputs": [
    {
     "data": {
      "image/png": "[encoded data removed]",
      "text/plain": [
       "<matplotlib.figure.Figure at 0x7f236c53a048>"
      ]
     },
     "metadata": {},
     "output_type": "display_data"
    }
   ],
   "source": [
    "fig = plt.figure()\n",
    "best_config.groupby('model.nb_epoch').max()['result.test_acc'].plot(kind='bar', ylim=(.95, 1), title='Best configuration',\n",
    "                                                                   )\n",
    "plt.xlabel('Number of epochs')\n",
    "plt.ylabel('Test accuracy')\n",
    "fig.savefig(\"best_epoch.png\")"
   ]
  },
  {
   "cell_type": "code",
   "execution_count": 15,
   "metadata": {
    "collapsed": false
   },
   "outputs": [
    {
     "data": {
      "image/png": "[encoded data removed]",
      "text/plain": [
       "<matplotlib.figure.Figure at 0x7f234eebeb70>"
      ]
     },
     "metadata": {},
     "output_type": "display_data"
    }
   ],
   "source": [
    "fig = plt.figure()\n",
    "uniq_b = best_config[best_config['feat.uniq_lines'] == True]\n",
    "uniq_b.groupby('model.nb_epoch').max()['result.test_acc'].plot(kind='bar', ylim=(.9, 1), title='Best configuration',\n",
    "                                                                   )\n",
    "plt.xlabel('Number of epochs')\n",
    "plt.ylabel('Test accuracy')\n",
    "fig.savefig(\"best_epoch_uniq.png\")"
   ]
  },
  {
   "cell_type": "code",
   "execution_count": null,
   "metadata": {
    "collapsed": true
   },
   "outputs": [],
   "source": []
  },
  {
   "cell_type": "code",
   "execution_count": 17,
   "metadata": {
    "collapsed": false
   },
   "outputs": [
    {
     "data": {
      "text/html": [
       "<div>\n",
       "<table border=\"1\" class=\"dataframe\">\n",
       "  <thead>\n",
       "    <tr style=\"text-align: right;\">\n",
       "      <th></th>\n",
       "      <th>result.running_time</th>\n",
       "      <th>result.test_acc</th>\n",
       "    </tr>\n",
       "  </thead>\n",
       "  <tbody>\n",
       "    <tr>\n",
       "      <th>5</th>\n",
       "      <td>0 days 00:00:25.930156</td>\n",
       "      <td>0.947250</td>\n",
       "    </tr>\n",
       "    <tr>\n",
       "      <th>116</th>\n",
       "      <td>0 days 00:00:23.476691</td>\n",
       "      <td>0.996388</td>\n",
       "    </tr>\n",
       "    <tr>\n",
       "      <th>122</th>\n",
       "      <td>0 days 00:00:20.995107</td>\n",
       "      <td>0.998135</td>\n",
       "    </tr>\n",
       "    <tr>\n",
       "      <th>128</th>\n",
       "      <td>0 days 00:00:16.280608</td>\n",
       "      <td>0.987000</td>\n",
       "    </tr>\n",
       "    <tr>\n",
       "      <th>134</th>\n",
       "      <td>0 days 00:00:10.887326</td>\n",
       "      <td>0.998329</td>\n",
       "    </tr>\n",
       "    <tr>\n",
       "      <th>140</th>\n",
       "      <td>0 days 00:00:16.578948</td>\n",
       "      <td>0.979333</td>\n",
       "    </tr>\n",
       "    <tr>\n",
       "      <th>146</th>\n",
       "      <td>0 days 00:00:20.958961</td>\n",
       "      <td>0.985333</td>\n",
       "    </tr>\n",
       "    <tr>\n",
       "      <th>159</th>\n",
       "      <td>0 days 00:00:29.118407</td>\n",
       "      <td>0.990805</td>\n",
       "    </tr>\n",
       "    <tr>\n",
       "      <th>173</th>\n",
       "      <td>0 days 00:00:30.741009</td>\n",
       "      <td>0.847525</td>\n",
       "    </tr>\n",
       "    <tr>\n",
       "      <th>187</th>\n",
       "      <td>0 days 00:00:21.977050</td>\n",
       "      <td>0.993000</td>\n",
       "    </tr>\n",
       "    <tr>\n",
       "      <th>201</th>\n",
       "      <td>0 days 00:00:48.251058</td>\n",
       "      <td>0.988500</td>\n",
       "    </tr>\n",
       "  </tbody>\n",
       "</table>\n",
       "</div>"
      ],
      "text/plain": [
       "        result.running_time  result.test_acc\n",
       "5    0 days 00:00:25.930156         0.947250\n",
       "116  0 days 00:00:23.476691         0.996388\n",
       "122  0 days 00:00:20.995107         0.998135\n",
       "128  0 days 00:00:16.280608         0.987000\n",
       "134  0 days 00:00:10.887326         0.998329\n",
       "140  0 days 00:00:16.578948         0.979333\n",
       "146  0 days 00:00:20.958961         0.985333\n",
       "159  0 days 00:00:29.118407         0.990805\n",
       "173  0 days 00:00:30.741009         0.847525\n",
       "187  0 days 00:00:21.977050         0.993000\n",
       "201  0 days 00:00:48.251058         0.988500"
      ]
     },
     "execution_count": 17,
     "metadata": {},
     "output_type": "execute_result"
    }
   ],
   "source": [
    "df[\n",
    "    (df['feat.N'] == 2) \n",
    "   & (df['feat.last_char'] == 6)\n",
    "   & (df['feat.uniq_lines'] == True)\n",
    "    & (df['model.nb_epoch'] == 300)\n",
    "  ][['result.running_time', 'result.test_acc']]"
   ]
  },
  {
   "cell_type": "code",
   "execution_count": null,
   "metadata": {
    "collapsed": true
   },
   "outputs": [],
   "source": []
  },
  {
   "cell_type": "code",
   "execution_count": null,
   "metadata": {
    "collapsed": false
   },
   "outputs": [],
   "source": [
    "df.groupby('feat.grep_filter')['result.test_acc'].max()"
   ]
  },
  {
   "cell_type": "code",
   "execution_count": null,
   "metadata": {
    "collapsed": false
   },
   "outputs": [],
   "source": [
    "df['feat.grep_filter'].value_counts()"
   ]
  },
  {
   "cell_type": "code",
   "execution_count": null,
   "metadata": {
    "collapsed": true
   },
   "outputs": [],
   "source": []
  },
  {
   "cell_type": "code",
   "execution_count": null,
   "metadata": {
    "collapsed": true
   },
   "outputs": [],
   "source": []
  },
  {
   "cell_type": "code",
   "execution_count": null,
   "metadata": {
    "collapsed": true
   },
   "outputs": [],
   "source": []
  },
  {
   "cell_type": "code",
   "execution_count": null,
   "metadata": {
    "collapsed": false
   },
   "outputs": [],
   "source": [
    "brown = df[(df['feat.tag_limit_in_cluster'].isnull() == False) & (df['feat.uniq_lines'] == True)]\n",
    "fig = plt.figure()\n",
    "brown.groupby('feat.tag_limit_in_cluster').max()['result.test_acc'].plot(kind='bar', title='Classifying using Brown clusters (119 classes)')\n",
    "plt.xlabel('Tag limit per cluster')\n",
    "plt.ylabel('Test accuracy')\n",
    "plt.savefig('brown.png')\n"
   ]
  },
  {
   "cell_type": "code",
   "execution_count": null,
   "metadata": {
    "collapsed": true
   },
   "outputs": [],
   "source": []
  },
  {
   "cell_type": "code",
   "execution_count": null,
   "metadata": {
    "collapsed": true
   },
   "outputs": [],
   "source": []
  },
  {
   "cell_type": "code",
   "execution_count": null,
   "metadata": {
    "collapsed": false
   },
   "outputs": [],
   "source": [
    "d = df[(df['feat.grep_filter'].notnull()) & (df['feat.grep_filter'].str.contains(\"COND\"))]\n",
    "d[d['feat.N'] == 3].sort_values('feat.last_char')[['result.test_acc', 'feat.last_char']] #.plot(title='1', x='feat.last_char', y='result.test_acc', kind='bar', ylim=(.9, 1.1))\n",
    "#d[d['feat.N'] == 2].sort_values('feat.last_char').plot(title='2', x='feat.last_char', y='result.test_acc', kind='bar', ylim=(.9, 1.1))\n",
    "#d[d['feat.N'] == 3].sort_values('feat.last_char').plot(title='3', x='feat.last_char', y='result.test_acc', kind='bar', ylim=(.9, 1.1))"
   ]
  },
  {
   "cell_type": "code",
   "execution_count": null,
   "metadata": {
    "collapsed": true
   },
   "outputs": [],
   "source": []
  },
  {
   "cell_type": "code",
   "execution_count": null,
   "metadata": {
    "collapsed": false
   },
   "outputs": [],
   "source": [
    "df.groupby(['feat.grep_filter', 'feat.tag_filter']).describe()[['result.test_acc', 'result.train_sample_count']]\n",
    "max_rows = df.loc[df.groupby(['feat.grep_filter', 'feat.tag_filter']).idxmax()['result.test_acc'].astype(int)]\n",
    "max_rows[['feat.grep_filter', 'feat.tag_filter', 'result.test_acc']]\n",
    "#max_rows.plot(y='result.test_acc', kind='bar', ylim=(0.95, 1))\n",
    "#len(max_rows[['result.test_acc'] + feat_uniq_col])"
   ]
  },
  {
   "cell_type": "code",
   "execution_count": null,
   "metadata": {
    "collapsed": false
   },
   "outputs": [],
   "source": [
    "#df.sort_values('result.test_acc').tail()[['result.test_acc', 'model.layers'] + feat_uniq_col]"
   ]
  },
  {
   "cell_type": "markdown",
   "metadata": {},
   "source": [
    "# Reorganizing data related stuff"
   ]
  },
  {
   "cell_type": "code",
   "execution_count": null,
   "metadata": {
    "collapsed": false
   },
   "outputs": [],
   "source": [
    "df['data.number_of_classes'] = 0\n",
    "for row in df.iterrows():\n",
    "    if isinstance(row[1]['feat.grep_filter'], str):\n",
    "        df['data.number_of_classes'] = len(eval(row[1]['feat.grep_filter'])) + 1\n",
    "    elif isinstance(row[1]['feat.tag_filter'], str):\n",
    "        df['data.number_of_classes'] = len(eval(row[1]['feat.tag_filter']))\n",
    "    else:\n",
    "        df['data.number_of_classes'] = -1"
   ]
  },
  {
   "cell_type": "code",
   "execution_count": null,
   "metadata": {
    "collapsed": false
   },
   "outputs": [],
   "source": [
    "df['data.train_sample_count'] = df['result.train_sample_count']\n",
    "df['data.test_sample_count'] = df['result.test_sample_count']\n",
    "df['data.sample_per_class'] = df['feat.sample_per_class']\n",
    "df['data.theoretical_sample_count'] = df['data.number_of_classes'] * df['data.sample_per_class']\n",
    "df['data.sample_count'] = df['data.train_sample_count'] * df['data.test_sample_count']\n",
    "df['data.is_max'] = df['data.theoretical_sample_count'] <= df['data.sample_count']"
   ]
  },
  {
   "cell_type": "markdown",
   "metadata": {},
   "source": [
    "# Filtering not so useful experiments\n",
    "\n",
    "* failed experiments\n",
    "* experiments with less than 20000 samples-per-class\n",
    "* experiments where max samples was not read"
   ]
  },
  {
   "cell_type": "code",
   "execution_count": null,
   "metadata": {
    "collapsed": false
   },
   "outputs": [],
   "source": [
    "orig = len(df)\n",
    "df = df[(df['result.success'] == True) & (df['feat.sample_per_class'] >= 20000) & (df['data.is_max'] == True)]\n",
    "print(\"Filtering experiments: {} --> {}\".format(orig, len(df)))"
   ]
  },
  {
   "cell_type": "code",
   "execution_count": null,
   "metadata": {
    "collapsed": false
   },
   "outputs": [],
   "source": [
    "feat_uniq_col = get_varying_columns(df, 'feat.')\n",
    "ignore_feat = ['feat.max_lines', 'feat.full_tag']\n",
    "feat_uniq_col = list(filter(lambda x: x not in ignore_feat, feat_uniq_col))\n",
    "\n",
    "result_uniq_col = get_varying_columns(df, 'result.')\n",
    "model_uniq_col = get_varying_columns(df, 'model.')\n",
    "all_params = feat_uniq_col + model_uniq_col\n",
    "non_monoton = get_varying_columns(df)\n",
    "uninteresting_columns = filter(lambda x: x not in non_monoton, df.columns)\n",
    "ignore_cols = [\n",
    "    'result.train_loss', 'result.test_loss', 'result.timestamp', 'result.running_time',\n",
    "]\n",
    "result_uniq_col = [col for col in result_uniq_col if col not in ignore_cols]\n",
    "interesting_columns = result_uniq_col + feat_uniq_col + model_uniq_col"
   ]
  },
  {
   "cell_type": "code",
   "execution_count": null,
   "metadata": {
    "collapsed": false
   },
   "outputs": [],
   "source": [
    "df[['result.test_acc'] + all_params].sort_values('result.test_acc', ascending=False).to_csv('results_filtered_columns.tsv', sep='\\t')"
   ]
  },
  {
   "cell_type": "markdown",
   "metadata": {},
   "source": [
    "## Unique feature combinations"
   ]
  },
  {
   "cell_type": "code",
   "execution_count": null,
   "metadata": {
    "collapsed": false
   },
   "outputs": [],
   "source": [
    "len(df[feat_uniq_col].drop_duplicates())"
   ]
  },
  {
   "cell_type": "markdown",
   "metadata": {},
   "source": [
    "### Number of experiments per combination"
   ]
  },
  {
   "cell_type": "code",
   "execution_count": null,
   "metadata": {
    "collapsed": false
   },
   "outputs": [],
   "source": [
    "df.groupby(feat_uniq_col).count()['model.nb_epoch'].to_frame()"
   ]
  },
  {
   "cell_type": "markdown",
   "metadata": {},
   "source": [
    "## Maximum test accuracy by feature combination"
   ]
  },
  {
   "cell_type": "code",
   "execution_count": null,
   "metadata": {
    "collapsed": false
   },
   "outputs": [],
   "source": [
    "max_rows = df.loc[df.groupby(feat_uniq_col).idxmax()['result.test_acc'].astype(int)]\n",
    "max_rows.plot(y='result.test_acc', kind='bar', ylim=(0.95, 1))\n",
    "len(max_rows[['result.test_acc'] + feat_uniq_col])"
   ]
  },
  {
   "cell_type": "markdown",
   "metadata": {},
   "source": [
    "# The absolute best combination"
   ]
  },
  {
   "cell_type": "code",
   "execution_count": null,
   "metadata": {
    "collapsed": false
   },
   "outputs": [],
   "source": [
    "best = df.loc[df['result.test_acc'].idxmax()].to_frame().sort_index()\n",
    "print(\"Best test acc: {}\".format(best.loc['result.test_acc'].item()))\n",
    "best"
   ]
  },
  {
   "cell_type": "code",
   "execution_count": null,
   "metadata": {
    "collapsed": false
   },
   "outputs": [],
   "source": [
    "def find_same_rows(df, lhs, include):\n",
    "    filt = df\n",
    "    for col in df.columns:\n",
    "        if col in include:\n",
    "            filt = filt[filt[col] == lhs[col].values[0]]\n",
    "    return filt"
   ]
  },
  {
   "cell_type": "code",
   "execution_count": null,
   "metadata": {
    "collapsed": false
   },
   "outputs": [],
   "source": [
    "filt = find_same_rows(df, best.transpose(), all_params)['result.test_acc']\n",
    "filt"
   ]
  },
  {
   "cell_type": "markdown",
   "metadata": {},
   "source": [
    "# Extract NN depth"
   ]
  },
  {
   "cell_type": "code",
   "execution_count": null,
   "metadata": {
    "collapsed": false
   },
   "outputs": [],
   "source": [
    "df['model.depth'] = df['model.layers'].apply(lambda x: len(eval(x)))\n",
    "df[['model.depth', 'result.test_acc']].groupby('model.depth').describe()"
   ]
  },
  {
   "cell_type": "code",
   "execution_count": null,
   "metadata": {
    "collapsed": true
   },
   "outputs": [],
   "source": []
  },
  {
   "cell_type": "code",
   "execution_count": null,
   "metadata": {
    "collapsed": false
   },
   "outputs": [],
   "source": [
    "df.groupby('model.depth').describe()"
   ]
  },
  {
   "cell_type": "code",
   "execution_count": null,
   "metadata": {
    "collapsed": true
   },
   "outputs": [],
   "source": []
  },
  {
   "cell_type": "code",
   "execution_count": null,
   "metadata": {
    "collapsed": false
   },
   "outputs": [],
   "source": [
    "draw = False\n",
    "\n",
    "if draw:\n",
    "    f = df[df['feat.sample_per_class'] > 10000]\n",
    "    batches = df['model.batch_size'].unique()\n",
    "\n",
    "    for key, val in f.groupby(features):\n",
    "        for nb in batches:\n",
    "            filt = val[val['model.batch_size'] == nb]\n",
    "            if len(filt) == 0:\n",
    "                continue\n",
    "            if filt['result.test_acc'].max() < 0.95:\n",
    "                continue\n",
    "            filt = filt.groupby('model.nb_epoch').mean()\n",
    "            filt[filt['model.batch_size'] == nb].plot(y='result.test_acc', kind='bar',\n",
    "                                                    ylim=(.9, 1), title=\"Epoch: {}, last_char: {} Sample: {} N: {}\".format(\n",
    "                    nb, key[0], key[5], key[-1]))"
   ]
  },
  {
   "cell_type": "code",
   "execution_count": null,
   "metadata": {
    "collapsed": true
   },
   "outputs": [],
   "source": []
  }
 ],
 "metadata": {
  "kernelspec": {
   "display_name": "Python 3",
   "language": "python",
   "name": "python3"
  },
  "language_info": {
   "codemirror_mode": {
    "name": "ipython",
    "version": 3
   },
   "file_extension": ".py",
   "mimetype": "text/x-python",
   "name": "python",
   "nbconvert_exporter": "python",
   "pygments_lexer": "ipython3",
   "version": "3.4.2"
  }
 },
 "nbformat": 4,
 "nbformat_minor": 1
}
